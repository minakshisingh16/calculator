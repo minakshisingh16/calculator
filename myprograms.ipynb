{
 "cells": [
  {
   "cell_type": "markdown",
   "id": "e260f672-a7bb-4442-8648-d28df642fe6d",
   "metadata": {},
   "source": [
    "This is my first program "
   ]
  },
  {
   "cell_type": "markdown",
   "id": "fefd321d-cc40-4b33-bab6-4165399551c8",
   "metadata": {},
   "source": [
    "# Hello Python "
   ]
  },
  {
   "cell_type": "code",
   "execution_count": 2,
   "id": "9f4183e7-e1a3-4e8b-81ce-c1239838b677",
   "metadata": {},
   "outputs": [
    {
     "name": "stdout",
     "output_type": "stream",
     "text": [
      "Hello world\n"
     ]
    }
   ],
   "source": [
    "print(\"Hello world\")"
   ]
  },
  {
   "cell_type": "markdown",
   "id": "d24513ab-64ce-4c31-ab01-c6f43b9eeccd",
   "metadata": {},
   "source": [
    "# Variables & Operators "
   ]
  },
  {
   "cell_type": "markdown",
   "id": "759858a0-15e9-4119-a566-a6811f9f67ce",
   "metadata": {},
   "source": [
    "1.Variables- Create, Delete, Store (It is containers that store values. Python is high programming lanugage & it works in a dynamic way. It is the basic unit of storage in a program.) \n",
    "x = 5 data type- integer\n",
    "y = 7 data type- int \n",
    "xy = 12.57 data type- float"
   ]
  },
  {
   "cell_type": "markdown",
   "id": "d64bfbe7-6649-470a-9510-11c47fcc6ab6",
   "metadata": {},
   "source": [
    "2.Data Types"
   ]
  },
  {
   "cell_type": "markdown",
   "id": "947a6163-ed39-4f65-98fb-e797854db707",
   "metadata": {},
   "source": [
    "3.Arthmetic Operators - +,*,/,//, **"
   ]
  },
  {
   "cell_type": "raw",
   "id": "2f932a0d-2861-4a21-825a-2a0affe894b7",
   "metadata": {},
   "source": [
    "4.Assignment Operators  5. Logical Op 6. Boolean 7. Bitwise 8. Comparision"
   ]
  },
  {
   "cell_type": "code",
   "execution_count": 1,
   "id": "9771d718-dc7c-4a7d-b6a9-b53eb50b1701",
   "metadata": {},
   "outputs": [
    {
     "name": "stdout",
     "output_type": "stream",
     "text": [
      "6\n"
     ]
    }
   ],
   "source": [
    "x = 6\n",
    "print(x)"
   ]
  },
  {
   "cell_type": "code",
   "execution_count": 2,
   "id": "ca35faa8-6baf-42f6-a9a2-8754b572bfcb",
   "metadata": {},
   "outputs": [
    {
     "name": "stdout",
     "output_type": "stream",
     "text": [
      "<class 'int'>\n"
     ]
    }
   ],
   "source": [
    "print( type(x))"
   ]
  },
  {
   "cell_type": "code",
   "execution_count": 3,
   "id": "80abd1e9-9192-4695-be56-7af53d425c5c",
   "metadata": {},
   "outputs": [
    {
     "name": "stdout",
     "output_type": "stream",
     "text": [
      "5.978\n",
      "<class 'float'>\n"
     ]
    }
   ],
   "source": [
    "y = 5.978\n",
    "print(y)\n",
    "print(type(y))"
   ]
  },
  {
   "cell_type": "code",
   "execution_count": 4,
   "id": "5a2c92a2-2ed9-4be5-9e7b-180ee9cbd31e",
   "metadata": {},
   "outputs": [
    {
     "name": "stdout",
     "output_type": "stream",
     "text": [
      "(12+3j)\n",
      "<class 'complex'>\n"
     ]
    }
   ],
   "source": [
    "z = 12+3j\n",
    "print(z)\n",
    "print( type(z))"
   ]
  },
  {
   "cell_type": "code",
   "execution_count": 5,
   "id": "33298169-e4fe-4891-a60d-5cb3fcd47fa3",
   "metadata": {},
   "outputs": [
    {
     "name": "stdout",
     "output_type": "stream",
     "text": [
      "I am Learning Python\n",
      "<class 'str'>\n"
     ]
    }
   ],
   "source": [
    "t = \"I am Learning Python\"\n",
    "print(t)\n",
    "print(type(t))"
   ]
  },
  {
   "cell_type": "code",
   "execution_count": 6,
   "id": "ba15f6ca-6447-488a-8ef3-749e81f4ceb0",
   "metadata": {},
   "outputs": [
    {
     "name": "stdout",
     "output_type": "stream",
     "text": [
      "Hello students, 23 students are present in the class\n"
     ]
    },
    {
     "data": {
      "text/plain": [
       "str"
      ]
     },
     "execution_count": 6,
     "metadata": {},
     "output_type": "execute_result"
    }
   ],
   "source": [
    "o = \"Hello students, 23 students are present in the class\"\n",
    "print(o)\n",
    "type(o)"
   ]
  },
  {
   "cell_type": "markdown",
   "id": "4323489b-34df-4adb-9572-4b60ea0dfd8d",
   "metadata": {},
   "source": [
    "# How many variable are there in the notebook"
   ]
  },
  {
   "cell_type": "code",
   "execution_count": 8,
   "id": "06365585-bb87-4c17-9cec-d7a2c2884dab",
   "metadata": {},
   "outputs": [
    {
     "name": "stdout",
     "output_type": "stream",
     "text": [
      "Variable   Type       Data/Info\n",
      "-------------------------------\n",
      "o          str        Hello students, 23 studen<...> are present in the class\n",
      "t          str        I am Learning Python\n",
      "x          int        6\n",
      "y          float      5.978\n",
      "z          complex    (12+3j)\n"
     ]
    }
   ],
   "source": [
    "%whos"
   ]
  },
  {
   "cell_type": "code",
   "execution_count": 9,
   "id": "4b1678cc-0507-45bb-af8d-30a903f6871d",
   "metadata": {},
   "outputs": [],
   "source": [
    "del z"
   ]
  },
  {
   "cell_type": "code",
   "execution_count": 10,
   "id": "9ddc664d-d8c2-4340-b180-0e8faa7fd006",
   "metadata": {},
   "outputs": [
    {
     "name": "stdout",
     "output_type": "stream",
     "text": [
      "Variable   Type     Data/Info\n",
      "-----------------------------\n",
      "o          str      Hello students, 23 studen<...> are present in the class\n",
      "t          str      I am Learning Python\n",
      "x          int      6\n",
      "y          float    5.978\n"
     ]
    }
   ],
   "source": [
    "%whos"
   ]
  },
  {
   "cell_type": "markdown",
   "id": "3cb05826-661f-4535-b674-9f93185b09ef",
   "metadata": {},
   "source": [
    "%who = Function used to know the variable in the program "
   ]
  },
  {
   "cell_type": "code",
   "execution_count": 11,
   "id": "cab6dd78-cf78-43d6-a869-6a609c03dabe",
   "metadata": {},
   "outputs": [
    {
     "name": "stdout",
     "output_type": "stream",
     "text": [
      "12\n",
      "13\n",
      "14\n"
     ]
    }
   ],
   "source": [
    "a = 12\n",
    "b = 13\n",
    "c = 14 \n",
    "print (a)\n",
    "print(b)\n",
    "print(c)"
   ]
  },
  {
   "cell_type": "markdown",
   "id": "70af1db6-6666-40c6-b90d-3efec28daf7c",
   "metadata": {},
   "source": [
    "# Mutliple Assigments in the varible"
   ]
  },
  {
   "cell_type": "code",
   "execution_count": 13,
   "id": "81b503cb-3f21-4037-b26f-5da6903a190e",
   "metadata": {},
   "outputs": [
    {
     "name": "stdout",
     "output_type": "stream",
     "text": [
      "3 4.5 Hello Students\n",
      "<class 'int'> <class 'float'> <class 'str'>\n"
     ]
    }
   ],
   "source": [
    "a,b,c = 3,4.5,\"Hello Students\"\n",
    "print(a,b,c)\n",
    "print( type(a), type(b), type(c))"
   ]
  },
  {
   "cell_type": "code",
   "execution_count": 14,
   "id": "dae93c33-d2ae-48d2-a529-8486e4059809",
   "metadata": {},
   "outputs": [
    {
     "name": "stdout",
     "output_type": "stream",
     "text": [
      "21\n"
     ]
    }
   ],
   "source": [
    "x = 21\n",
    "X = 2.34\n",
    "print(x)"
   ]
  },
  {
   "cell_type": "code",
   "execution_count": 15,
   "id": "291606b6-a995-4e7e-b026-49a8f3e4fea5",
   "metadata": {},
   "outputs": [
    {
     "name": "stdout",
     "output_type": "stream",
     "text": [
      "Variable   Type     Data/Info\n",
      "-----------------------------\n",
      "X          float    2.34\n",
      "a          int      3\n",
      "b          float    4.5\n",
      "c          str      Hello Students\n",
      "o          str      Hello students, 23 studen<...> are present in the class\n",
      "t          str      I am Learning Python\n",
      "x          int      21\n",
      "y          float    5.978\n"
     ]
    }
   ],
   "source": [
    "%whos"
   ]
  },
  {
   "cell_type": "markdown",
   "id": "1e005fae-a461-4a67-8eb8-3741a7f33ca8",
   "metadata": {},
   "source": [
    "2+3 "
   ]
  },
  {
   "cell_type": "markdown",
   "id": "dee17ab3-5c1f-473f-be12-ad42540475f1",
   "metadata": {},
   "source": [
    "# Python Arithmetic Operators"
   ]
  },
  {
   "cell_type": "markdown",
   "id": "064d1391-1fb5-49f0-8cc3-78afe1ecdb91",
   "metadata": {},
   "source": [
    "# Add Operator"
   ]
  },
  {
   "cell_type": "code",
   "execution_count": 28,
   "id": "feb88933-3dd0-4c96-9372-7368b44636b3",
   "metadata": {},
   "outputs": [],
   "source": [
    "a = 2\n",
    "b = 4\n",
    "c = 3.5\n",
    "d = \"Hello students\"\n",
    "e = \"How are you\"\n",
    "F = 6+8j\n",
    "\n"
   ]
  },
  {
   "cell_type": "code",
   "execution_count": 21,
   "id": "8c30f256-99a3-4ada-8b6e-2efddb0d2cf9",
   "metadata": {},
   "outputs": [
    {
     "name": "stdout",
     "output_type": "stream",
     "text": [
      "6\n"
     ]
    }
   ],
   "source": [
    "print( a+ b)"
   ]
  },
  {
   "cell_type": "code",
   "execution_count": 22,
   "id": "8967832a-abdf-41cf-b332-62894d4bfbeb",
   "metadata": {},
   "outputs": [
    {
     "name": "stdout",
     "output_type": "stream",
     "text": [
      "5.5\n"
     ]
    }
   ],
   "source": [
    "print( a+c)"
   ]
  },
  {
   "cell_type": "code",
   "execution_count": 29,
   "id": "83c4a863-7aaa-4885-92b1-dc9e0c2456fc",
   "metadata": {},
   "outputs": [
    {
     "name": "stdout",
     "output_type": "stream",
     "text": [
      "(8+8j)\n"
     ]
    }
   ],
   "source": [
    "print( a+F )"
   ]
  },
  {
   "cell_type": "code",
   "execution_count": 30,
   "id": "f93ab229-dd0d-4c9b-8d1b-dba850538e4e",
   "metadata": {},
   "outputs": [
    {
     "name": "stdout",
     "output_type": "stream",
     "text": [
      "(9.5+8j)\n"
     ]
    }
   ],
   "source": [
    "print ( c + F )"
   ]
  },
  {
   "cell_type": "markdown",
   "id": "6175fad6-f5a9-433a-b2b4-d5dfdab15177",
   "metadata": {},
   "source": [
    "# Subtract"
   ]
  },
  {
   "cell_type": "code",
   "execution_count": 31,
   "id": "2f1bdbf3-d34b-4a4e-922c-8d3610d91331",
   "metadata": {},
   "outputs": [
    {
     "name": "stdout",
     "output_type": "stream",
     "text": [
      "Variable   Type       Data/Info\n",
      "-------------------------------\n",
      "F          complex    (6+8j)\n",
      "X          float      2.34\n",
      "a          int        2\n",
      "b          int        4\n",
      "c          float      3.5\n",
      "d          str        Hello students\n",
      "e          str        How are you\n",
      "o          str        Hello students, 23 studen<...> are present in the class\n",
      "t          str        I am Learning Python\n",
      "x          int        21\n",
      "y          float      5.978\n"
     ]
    }
   ],
   "source": [
    "%whos"
   ]
  },
  {
   "cell_type": "code",
   "execution_count": 32,
   "id": "4ea8d4cb-8c8f-4b75-b25d-c01fd9f94adf",
   "metadata": {},
   "outputs": [
    {
     "name": "stdout",
     "output_type": "stream",
     "text": [
      "2\n"
     ]
    }
   ],
   "source": [
    "print( b - a )"
   ]
  },
  {
   "cell_type": "code",
   "execution_count": 33,
   "id": "ce777fea-c4b4-4d1b-a45c-8eb1ccda9f5d",
   "metadata": {},
   "outputs": [
    {
     "name": "stdout",
     "output_type": "stream",
     "text": [
      "0.5\n"
     ]
    }
   ],
   "source": [
    "print ( b-c )"
   ]
  },
  {
   "cell_type": "code",
   "execution_count": 34,
   "id": "88ffc8f7-b4e7-4bc8-bcc4-bad4ce4384db",
   "metadata": {},
   "outputs": [
    {
     "name": "stdout",
     "output_type": "stream",
     "text": [
      "-2\n"
     ]
    }
   ],
   "source": [
    "print ( a -b )\n"
   ]
  },
  {
   "cell_type": "code",
   "execution_count": 35,
   "id": "4296b391-7163-4689-a4c1-90531ee04191",
   "metadata": {},
   "outputs": [
    {
     "name": "stdout",
     "output_type": "stream",
     "text": [
      "(4+8j)\n"
     ]
    }
   ],
   "source": [
    "print ( F - a )"
   ]
  },
  {
   "cell_type": "code",
   "execution_count": 36,
   "id": "325216ed-47fb-451f-9369-03b34553e153",
   "metadata": {},
   "outputs": [
    {
     "name": "stdout",
     "output_type": "stream",
     "text": [
      "(2.5+8j)\n"
     ]
    }
   ],
   "source": [
    "print ( F - c ) "
   ]
  },
  {
   "cell_type": "code",
   "execution_count": 37,
   "id": "74936fa8-f6ba-490e-8847-cd3d2fe6e3ef",
   "metadata": {},
   "outputs": [
    {
     "ename": "TypeError",
     "evalue": "unsupported operand type(s) for -: 'str' and 'str'",
     "output_type": "error",
     "traceback": [
      "\u001b[1;31m---------------------------------------------------------------------------\u001b[0m",
      "\u001b[1;31mTypeError\u001b[0m                                 Traceback (most recent call last)",
      "Cell \u001b[1;32mIn[37], line 1\u001b[0m\n\u001b[1;32m----> 1\u001b[0m \u001b[38;5;28mprint\u001b[39m ( d \u001b[38;5;241m-\u001b[39m e )\n",
      "\u001b[1;31mTypeError\u001b[0m: unsupported operand type(s) for -: 'str' and 'str'"
     ]
    }
   ],
   "source": [
    "print ( d - e )"
   ]
  },
  {
   "cell_type": "markdown",
   "id": "50e034ba-0fb3-4444-b19b-3c2e8cf1df1a",
   "metadata": {},
   "source": [
    "# Mulitiplication"
   ]
  },
  {
   "cell_type": "code",
   "execution_count": 38,
   "id": "9f62fa5b-fba0-44f9-970e-e4bfd78f93fd",
   "metadata": {},
   "outputs": [
    {
     "name": "stdout",
     "output_type": "stream",
     "text": [
      "Variable   Type       Data/Info\n",
      "-------------------------------\n",
      "F          complex    (6+8j)\n",
      "X          float      2.34\n",
      "a          int        2\n",
      "b          int        4\n",
      "c          float      3.5\n",
      "d          str        Hello students\n",
      "e          str        How are you\n",
      "o          str        Hello students, 23 studen<...> are present in the class\n",
      "t          str        I am Learning Python\n",
      "x          int        21\n",
      "y          float      5.978\n"
     ]
    }
   ],
   "source": [
    "%whos"
   ]
  },
  {
   "cell_type": "code",
   "execution_count": 39,
   "id": "4e683a12-250f-46f5-940d-e2edd2a5c5b4",
   "metadata": {},
   "outputs": [
    {
     "name": "stdout",
     "output_type": "stream",
     "text": [
      "8\n"
     ]
    }
   ],
   "source": [
    "print ( a*b)"
   ]
  },
  {
   "cell_type": "code",
   "execution_count": 40,
   "id": "54acf3fb-4356-413b-b645-898bfada4b16",
   "metadata": {},
   "outputs": [
    {
     "name": "stdout",
     "output_type": "stream",
     "text": [
      "7.0\n"
     ]
    }
   ],
   "source": [
    "print ( a*c)\n"
   ]
  },
  {
   "cell_type": "code",
   "execution_count": 41,
   "id": "4d28bafe-374e-46b6-9db1-775f97146d2d",
   "metadata": {},
   "outputs": [
    {
     "ename": "TypeError",
     "evalue": "can't multiply sequence by non-int of type 'str'",
     "output_type": "error",
     "traceback": [
      "\u001b[1;31m---------------------------------------------------------------------------\u001b[0m",
      "\u001b[1;31mTypeError\u001b[0m                                 Traceback (most recent call last)",
      "Cell \u001b[1;32mIn[41], line 1\u001b[0m\n\u001b[1;32m----> 1\u001b[0m \u001b[38;5;28mprint\u001b[39m ( d \u001b[38;5;241m*\u001b[39m e )\n",
      "\u001b[1;31mTypeError\u001b[0m: can't multiply sequence by non-int of type 'str'"
     ]
    }
   ],
   "source": [
    "print ( d * e )"
   ]
  },
  {
   "cell_type": "code",
   "execution_count": 42,
   "id": "a30544af-ab67-41c7-9184-27c58af860ea",
   "metadata": {},
   "outputs": [
    {
     "name": "stdout",
     "output_type": "stream",
     "text": [
      "(21+28j)\n"
     ]
    }
   ],
   "source": [
    "print( c *F )"
   ]
  },
  {
   "cell_type": "markdown",
   "id": "197d08b8-6f07-4389-aa7a-7f51da923094",
   "metadata": {},
   "source": [
    "# Division Operator"
   ]
  },
  {
   "cell_type": "code",
   "execution_count": 43,
   "id": "11a33f36-8410-49a9-bbd7-97a4052a0213",
   "metadata": {},
   "outputs": [
    {
     "name": "stdout",
     "output_type": "stream",
     "text": [
      "Variable   Type       Data/Info\n",
      "-------------------------------\n",
      "F          complex    (6+8j)\n",
      "X          float      2.34\n",
      "a          int        2\n",
      "b          int        4\n",
      "c          float      3.5\n",
      "d          str        Hello students\n",
      "e          str        How are you\n",
      "o          str        Hello students, 23 studen<...> are present in the class\n",
      "t          str        I am Learning Python\n",
      "x          int        21\n",
      "y          float      5.978\n"
     ]
    }
   ],
   "source": [
    "%whos"
   ]
  },
  {
   "cell_type": "code",
   "execution_count": 44,
   "id": "4aa53d16-eb2a-42bf-bc8e-002d0d248075",
   "metadata": {},
   "outputs": [
    {
     "name": "stdout",
     "output_type": "stream",
     "text": [
      "2.0\n"
     ]
    }
   ],
   "source": [
    "print ( b/a )"
   ]
  },
  {
   "cell_type": "code",
   "execution_count": 45,
   "id": "11317b81-b7c7-4d56-bd4a-441b966191a9",
   "metadata": {},
   "outputs": [
    {
     "name": "stdout",
     "output_type": "stream",
     "text": [
      "1.1428571428571428\n"
     ]
    }
   ],
   "source": [
    "print ( b/c )"
   ]
  },
  {
   "cell_type": "code",
   "execution_count": 46,
   "id": "8c8d2611-c199-4467-9c7e-32affeafc08a",
   "metadata": {},
   "outputs": [
    {
     "name": "stdout",
     "output_type": "stream",
     "text": [
      "(3+4j)\n"
     ]
    }
   ],
   "source": [
    "print( F/a)"
   ]
  },
  {
   "cell_type": "code",
   "execution_count": 47,
   "id": "69947878-a3cf-431e-8c81-0c4453cecf2c",
   "metadata": {},
   "outputs": [
    {
     "name": "stdout",
     "output_type": "stream",
     "text": [
      "(1.7142857142857142+2.2857142857142856j)\n"
     ]
    }
   ],
   "source": [
    "print ( F / c ) "
   ]
  },
  {
   "cell_type": "code",
   "execution_count": 48,
   "id": "119144c7-4f02-4230-8a2c-f8d5a634db31",
   "metadata": {},
   "outputs": [
    {
     "ename": "TypeError",
     "evalue": "unsupported operand type(s) for /: 'str' and 'str'",
     "output_type": "error",
     "traceback": [
      "\u001b[1;31m---------------------------------------------------------------------------\u001b[0m",
      "\u001b[1;31mTypeError\u001b[0m                                 Traceback (most recent call last)",
      "Cell \u001b[1;32mIn[48], line 1\u001b[0m\n\u001b[1;32m----> 1\u001b[0m \u001b[38;5;28mprint\u001b[39m ( d\u001b[38;5;241m/\u001b[39me )\n",
      "\u001b[1;31mTypeError\u001b[0m: unsupported operand type(s) for /: 'str' and 'str'"
     ]
    }
   ],
   "source": [
    "print ( d/e )"
   ]
  },
  {
   "cell_type": "markdown",
   "id": "f5906d5c-0f45-48cb-87a1-540222f183d9",
   "metadata": {},
   "source": [
    "# Modulus Operator"
   ]
  },
  {
   "cell_type": "code",
   "execution_count": 49,
   "id": "51b8ad06-616b-4fe7-9b17-77c750513f98",
   "metadata": {},
   "outputs": [
    {
     "name": "stdout",
     "output_type": "stream",
     "text": [
      "Variable   Type       Data/Info\n",
      "-------------------------------\n",
      "F          complex    (6+8j)\n",
      "X          float      2.34\n",
      "a          int        2\n",
      "b          int        4\n",
      "c          float      3.5\n",
      "d          str        Hello students\n",
      "e          str        How are you\n",
      "o          str        Hello students, 23 studen<...> are present in the class\n",
      "t          str        I am Learning Python\n",
      "x          int        21\n",
      "y          float      5.978\n"
     ]
    }
   ],
   "source": [
    "%whos"
   ]
  },
  {
   "cell_type": "code",
   "execution_count": 50,
   "id": "1b7779eb-c5d4-4fcc-b027-bb70b502dd99",
   "metadata": {},
   "outputs": [
    {
     "name": "stdout",
     "output_type": "stream",
     "text": [
      "0\n"
     ]
    }
   ],
   "source": [
    "print( b%2 )"
   ]
  },
  {
   "cell_type": "code",
   "execution_count": 51,
   "id": "f2b5a7da-ebb8-4be1-999b-f51fff0b54ba",
   "metadata": {},
   "outputs": [
    {
     "name": "stdout",
     "output_type": "stream",
     "text": [
      "1.5\n"
     ]
    }
   ],
   "source": [
    "print ( c%a )"
   ]
  },
  {
   "cell_type": "code",
   "execution_count": 52,
   "id": "45d6fcd1-8cd8-426a-bc34-730d3112401c",
   "metadata": {},
   "outputs": [
    {
     "ename": "TypeError",
     "evalue": "unsupported operand type(s) for %: 'complex' and 'int'",
     "output_type": "error",
     "traceback": [
      "\u001b[1;31m---------------------------------------------------------------------------\u001b[0m",
      "\u001b[1;31mTypeError\u001b[0m                                 Traceback (most recent call last)",
      "Cell \u001b[1;32mIn[52], line 1\u001b[0m\n\u001b[1;32m----> 1\u001b[0m \u001b[38;5;28mprint\u001b[39m ( F\u001b[38;5;241m%\u001b[39ma)\n",
      "\u001b[1;31mTypeError\u001b[0m: unsupported operand type(s) for %: 'complex' and 'int'"
     ]
    }
   ],
   "source": [
    "print ( F%a)"
   ]
  },
  {
   "cell_type": "markdown",
   "id": "d4c230c8-6994-495c-be72-de3cb6ede929",
   "metadata": {},
   "source": [
    "# Exponent Operator"
   ]
  },
  {
   "cell_type": "code",
   "execution_count": 53,
   "id": "bfe4761a-0aa0-4ce2-a0c4-c0f1aca26aa1",
   "metadata": {},
   "outputs": [
    {
     "name": "stdout",
     "output_type": "stream",
     "text": [
      "Variable   Type       Data/Info\n",
      "-------------------------------\n",
      "F          complex    (6+8j)\n",
      "X          float      2.34\n",
      "a          int        2\n",
      "b          int        4\n",
      "c          float      3.5\n",
      "d          str        Hello students\n",
      "e          str        How are you\n",
      "o          str        Hello students, 23 studen<...> are present in the class\n",
      "t          str        I am Learning Python\n",
      "x          int        21\n",
      "y          float      5.978\n"
     ]
    }
   ],
   "source": [
    "%whos"
   ]
  },
  {
   "cell_type": "code",
   "execution_count": 54,
   "id": "1c84f0f3-6ade-4d99-afda-b1c335603544",
   "metadata": {},
   "outputs": [
    {
     "name": "stdout",
     "output_type": "stream",
     "text": [
      "16\n"
     ]
    }
   ],
   "source": [
    "print ( a**4 )"
   ]
  },
  {
   "cell_type": "code",
   "execution_count": 55,
   "id": "e039dfd3-5b01-442d-b705-cdaec8916c31",
   "metadata": {},
   "outputs": [
    {
     "name": "stdout",
     "output_type": "stream",
     "text": [
      "16\n"
     ]
    }
   ],
   "source": [
    "print ( a**b ) "
   ]
  },
  {
   "cell_type": "code",
   "execution_count": 56,
   "id": "8f739e0f-da98-4ccf-9cfa-1f8dfc7e0445",
   "metadata": {},
   "outputs": [
    {
     "name": "stdout",
     "output_type": "stream",
     "text": [
      "6211904899.255558\n"
     ]
    }
   ],
   "source": [
    "print ( c**18 )"
   ]
  },
  {
   "cell_type": "code",
   "execution_count": 57,
   "id": "34c174fe-233d-426a-ba8c-cc796b95697f",
   "metadata": {},
   "outputs": [
    {
     "name": "stdout",
     "output_type": "stream",
     "text": [
      "150.0625\n"
     ]
    }
   ],
   "source": [
    "print ( c**b )"
   ]
  },
  {
   "cell_type": "code",
   "execution_count": 58,
   "id": "f2e065e0-0629-48a8-b255-41372fb70ac0",
   "metadata": {},
   "outputs": [
    {
     "name": "stdout",
     "output_type": "stream",
     "text": [
      "(-28+96j)\n"
     ]
    }
   ],
   "source": [
    "print ( F**2 )"
   ]
  },
  {
   "cell_type": "code",
   "execution_count": 60,
   "id": "6bff65a7-bfb7-4209-bb23-2f9da0f8a429",
   "metadata": {},
   "outputs": [
    {
     "name": "stdout",
     "output_type": "stream",
     "text": [
      "1803088080234.7888\n"
     ]
    }
   ],
   "source": [
    "print( ( 23**9) - (65*98) + ( 89+567) + ( 12345*156778) - (23-98.78890))"
   ]
  },
  {
   "cell_type": "markdown",
   "id": "230155ad-f1e7-46fe-9928-35973a596c2c",
   "metadata": {},
   "source": [
    "# Floor Divison"
   ]
  },
  {
   "cell_type": "code",
   "execution_count": 61,
   "id": "6260127e-a24b-45f9-8011-71836cb896c2",
   "metadata": {},
   "outputs": [
    {
     "name": "stdout",
     "output_type": "stream",
     "text": [
      "Variable   Type       Data/Info\n",
      "-------------------------------\n",
      "F          complex    (6+8j)\n",
      "X          float      2.34\n",
      "a          int        2\n",
      "b          int        4\n",
      "c          float      3.5\n",
      "d          str        Hello students\n",
      "e          str        How are you\n",
      "o          str        Hello students, 23 studen<...> are present in the class\n",
      "t          str        I am Learning Python\n",
      "x          int        21\n",
      "y          float      5.978\n"
     ]
    }
   ],
   "source": [
    "%whos\n"
   ]
  },
  {
   "cell_type": "code",
   "execution_count": 62,
   "id": "1d5e1d76-d175-4d0e-b533-4b5ac018430b",
   "metadata": {},
   "outputs": [
    {
     "name": "stdout",
     "output_type": "stream",
     "text": [
      "2\n"
     ]
    }
   ],
   "source": [
    "print( b//a )"
   ]
  },
  {
   "cell_type": "code",
   "execution_count": 63,
   "id": "92528443-44d7-44ca-a407-636516193532",
   "metadata": {},
   "outputs": [
    {
     "name": "stdout",
     "output_type": "stream",
     "text": [
      "1.0\n"
     ]
    }
   ],
   "source": [
    "print ( c//a )"
   ]
  },
  {
   "cell_type": "code",
   "execution_count": 64,
   "id": "7ef0b62d-5093-4e41-92de-950c13d0e5f7",
   "metadata": {},
   "outputs": [
    {
     "name": "stdout",
     "output_type": "stream",
     "text": [
      "6\n"
     ]
    }
   ],
   "source": [
    "add = a + b\n",
    "print(add)"
   ]
  },
  {
   "cell_type": "code",
   "execution_count": 65,
   "id": "fd730be8-4829-4193-9f93-1893107faefc",
   "metadata": {},
   "outputs": [
    {
     "ename": "SyntaxError",
     "evalue": "invalid syntax (544798132.py, line 1)",
     "output_type": "error",
     "traceback": [
      "\u001b[1;36m  Cell \u001b[1;32mIn[65], line 1\u001b[1;36m\u001b[0m\n\u001b[1;33m    @#& = 123\u001b[0m\n\u001b[1;37m     ^\u001b[0m\n\u001b[1;31mSyntaxError\u001b[0m\u001b[1;31m:\u001b[0m invalid syntax\n"
     ]
    }
   ],
   "source": [
    "@#& = 123"
   ]
  },
  {
   "cell_type": "code",
   "execution_count": 66,
   "id": "168e2423-4119-468a-82c7-6028789b6c02",
   "metadata": {},
   "outputs": [
    {
     "name": "stdout",
     "output_type": "stream",
     "text": [
      "6\n"
     ]
    }
   ],
   "source": [
    "_a = 6\n",
    "print(_a)"
   ]
  },
  {
   "cell_type": "raw",
   "id": "a010be7c-de1f-4756-9a69-ad770fe5d520",
   "metadata": {},
   "source": [
    "_a is an only Expection"
   ]
  },
  {
   "cell_type": "code",
   "execution_count": 67,
   "id": "801beea4-e402-4bde-a9ff-e7aa5a79d4c0",
   "metadata": {},
   "outputs": [
    {
     "name": "stdout",
     "output_type": "stream",
     "text": [
      "123\n"
     ]
    }
   ],
   "source": [
    "_b = 123\n",
    "print(_b)"
   ]
  },
  {
   "cell_type": "markdown",
   "id": "4bc0564d-960d-4652-af71-083c322d4a09",
   "metadata": {},
   "source": [
    "# Python Assginment Operators"
   ]
  },
  {
   "cell_type": "raw",
   "id": "b710bc15-a962-4e00-9957-5b51a14609fb",
   "metadata": {},
   "source": [
    "+= , m += 10 , m = m+10 "
   ]
  },
  {
   "cell_type": "code",
   "execution_count": 68,
   "id": "684b3342-1d64-44f0-a670-ffd9bf40174b",
   "metadata": {},
   "outputs": [],
   "source": [
    "m = 15"
   ]
  },
  {
   "cell_type": "code",
   "execution_count": 69,
   "id": "5cfcd3e7-6a29-44da-a01b-f2a609801536",
   "metadata": {},
   "outputs": [
    {
     "name": "stdout",
     "output_type": "stream",
     "text": [
      "25\n"
     ]
    }
   ],
   "source": [
    "m += 10\n",
    "print(m)"
   ]
  },
  {
   "cell_type": "code",
   "execution_count": 70,
   "id": "a61f6585-233d-448c-8b8d-1aa5b800f12d",
   "metadata": {},
   "outputs": [
    {
     "name": "stdout",
     "output_type": "stream",
     "text": [
      "5\n"
     ]
    }
   ],
   "source": [
    "m = 15\n",
    "m-=10\n",
    "print(m)"
   ]
  },
  {
   "cell_type": "code",
   "execution_count": 71,
   "id": "88ae0481-cd4c-463a-b072-52e25a5ecad9",
   "metadata": {},
   "outputs": [
    {
     "name": "stdout",
     "output_type": "stream",
     "text": [
      "150\n"
     ]
    }
   ],
   "source": [
    "m=15\n",
    "m*=10\n",
    "print(m)"
   ]
  },
  {
   "cell_type": "code",
   "execution_count": 72,
   "id": "42ce891f-70cf-42bd-b2c9-acd195a9dc02",
   "metadata": {},
   "outputs": [
    {
     "name": "stdout",
     "output_type": "stream",
     "text": [
      "1.5\n"
     ]
    }
   ],
   "source": [
    "m=15\n",
    "m/=10\n",
    "print(m)"
   ]
  },
  {
   "cell_type": "code",
   "execution_count": 75,
   "id": "52f2d7e2-a0eb-4288-91cc-bfc707620c0d",
   "metadata": {},
   "outputs": [
    {
     "name": "stdout",
     "output_type": "stream",
     "text": [
      "225\n"
     ]
    }
   ],
   "source": [
    "m=15\n",
    "m**=2\n",
    "print(m)"
   ]
  },
  {
   "cell_type": "code",
   "execution_count": 76,
   "id": "8ef8e5c2-5942-4fb1-97da-6ab421041d17",
   "metadata": {},
   "outputs": [
    {
     "name": "stdout",
     "output_type": "stream",
     "text": [
      "25\n"
     ]
    }
   ],
   "source": [
    "m=15\n",
    "m= m+10\n",
    "print(m)"
   ]
  },
  {
   "cell_type": "markdown",
   "id": "0e316455-c321-405f-a613-d2e0c5fe014a",
   "metadata": {},
   "source": [
    "# Boolean Operators"
   ]
  },
  {
   "cell_type": "markdown",
   "id": "3b3f485b-8510-4bcf-a978-6a917bd03298",
   "metadata": {},
   "source": [
    "Two Possible Values : \n",
    "\n",
    "1.True \n",
    "2. Flase "
   ]
  },
  {
   "cell_type": "markdown",
   "id": "99b6b654-3d7d-458d-bcce-2e3540ef0d7b",
   "metadata": {},
   "source": [
    "# Python Logical Operators Types Bollean"
   ]
  },
  {
   "cell_type": "markdown",
   "id": "75c48925-6b06-4e00-9f8b-30f65e219581",
   "metadata": {},
   "source": [
    "\"and\" Operator\n",
    "\"or\" Operator\n",
    "\"not\" Operator \n",
    "\n",
    "True and True is True\n",
    "True and Flase is Flase \n",
    "False and True is Flase \n",
    "False and Flase is Flase \n",
    "\n",
    "True or True is True \n",
    "True or False is True \n",
    "False or False is False \n",
    "False or True is True \n",
    "\n",
    "not(True) is False \n",
    "not(False) is True \n",
    "\n",
    "And , Or>>Binary Operator , not>>Unary Operator "
   ]
  },
  {
   "cell_type": "markdown",
   "id": "c676415f-c07d-4ed3-b5c3-355190240dae",
   "metadata": {},
   "source": [
    "# Python Logical & Boolean Operator "
   ]
  },
  {
   "cell_type": "code",
   "execution_count": 80,
   "id": "5e1c43bb-6494-4f13-9432-6691d5948df1",
   "metadata": {},
   "outputs": [
    {
     "ename": "TypeError",
     "evalue": "type() takes 1 or 3 arguments",
     "output_type": "error",
     "traceback": [
      "\u001b[1;31m---------------------------------------------------------------------------\u001b[0m",
      "\u001b[1;31mTypeError\u001b[0m                                 Traceback (most recent call last)",
      "Cell \u001b[1;32mIn[80], line 5\u001b[0m\n\u001b[0;32m      3\u001b[0m C \u001b[38;5;241m=\u001b[39m \u001b[38;5;28;01mFalse\u001b[39;00m\n\u001b[0;32m      4\u001b[0m D \u001b[38;5;241m=\u001b[39m \u001b[38;5;28;01mFalse\u001b[39;00m \n\u001b[1;32m----> 5\u001b[0m \u001b[38;5;28mtype\u001b[39m( A,B,C,D)\n",
      "\u001b[1;31mTypeError\u001b[0m: type() takes 1 or 3 arguments"
     ]
    }
   ],
   "source": [
    "a = True\n",
    "b = True\n",
    "c = False\n",
    "d = False \n",
    "\n",
    "\n"
   ]
  },
  {
   "cell_type": "code",
   "execution_count": 81,
   "id": "1be9e0d3-8f8f-4578-a861-5e134f5d7231",
   "metadata": {},
   "outputs": [
    {
     "data": {
      "text/plain": [
       "bool"
      ]
     },
     "execution_count": 81,
     "metadata": {},
     "output_type": "execute_result"
    }
   ],
   "source": [
    "type(a)"
   ]
  },
  {
   "cell_type": "code",
   "execution_count": 82,
   "id": "255bce72-044a-40a4-9503-ca19ca791c03",
   "metadata": {},
   "outputs": [
    {
     "data": {
      "text/plain": [
       "bool"
      ]
     },
     "execution_count": 82,
     "metadata": {},
     "output_type": "execute_result"
    }
   ],
   "source": [
    "type(b)"
   ]
  },
  {
   "cell_type": "code",
   "execution_count": 84,
   "id": "068a25d2-a9c2-46b2-8177-1107cdd4d7dc",
   "metadata": {},
   "outputs": [
    {
     "data": {
      "text/plain": [
       "bool"
      ]
     },
     "execution_count": 84,
     "metadata": {},
     "output_type": "execute_result"
    }
   ],
   "source": [
    "type(c)"
   ]
  },
  {
   "cell_type": "code",
   "execution_count": 86,
   "id": "d39c86da-abb3-4ca0-b07c-9f2d035066ef",
   "metadata": {},
   "outputs": [
    {
     "name": "stdout",
     "output_type": "stream",
     "text": [
      "True\n"
     ]
    }
   ],
   "source": [
    "print(a and b )"
   ]
  },
  {
   "cell_type": "code",
   "execution_count": 87,
   "id": "de42f098-b6f5-40c3-9f12-b37ec9a9af99",
   "metadata": {},
   "outputs": [
    {
     "name": "stdout",
     "output_type": "stream",
     "text": [
      "False\n"
     ]
    }
   ],
   "source": [
    "print( b and c ) "
   ]
  },
  {
   "cell_type": "code",
   "execution_count": 89,
   "id": "c0ef8d8b-d295-43dc-b616-bde778122519",
   "metadata": {},
   "outputs": [
    {
     "name": "stdout",
     "output_type": "stream",
     "text": [
      "False\n"
     ]
    }
   ],
   "source": [
    "print ( c and a ) "
   ]
  },
  {
   "cell_type": "code",
   "execution_count": 90,
   "id": "8ab22263-a70d-412e-89d7-7b75e0ab2075",
   "metadata": {},
   "outputs": [
    {
     "name": "stdout",
     "output_type": "stream",
     "text": [
      "False\n"
     ]
    }
   ],
   "source": [
    "print ( c and d )"
   ]
  },
  {
   "cell_type": "code",
   "execution_count": 91,
   "id": "97a45f1c-9d9a-40b8-8ee3-f753a75c39e8",
   "metadata": {},
   "outputs": [
    {
     "name": "stdout",
     "output_type": "stream",
     "text": [
      "False\n"
     ]
    }
   ],
   "source": [
    "print ( ( a and b ) and ( c and d ) )"
   ]
  },
  {
   "cell_type": "code",
   "execution_count": null,
   "id": "815a8d46-6b0b-4698-8d1d-090cb553596d",
   "metadata": {},
   "outputs": [],
   "source": [
    "a = True\n",
    "b = True\n",
    "c = False \n",
    "d = False"
   ]
  },
  {
   "cell_type": "code",
   "execution_count": 92,
   "id": "d37ce509-415e-4bee-9def-ae2c0072f450",
   "metadata": {},
   "outputs": [
    {
     "name": "stdout",
     "output_type": "stream",
     "text": [
      "True\n"
     ]
    }
   ],
   "source": [
    "print( a or b ) "
   ]
  },
  {
   "cell_type": "code",
   "execution_count": 94,
   "id": "9f8fcc04-4cab-4d4c-8a03-6ad4cf89c980",
   "metadata": {},
   "outputs": [
    {
     "name": "stdout",
     "output_type": "stream",
     "text": [
      "True\n"
     ]
    }
   ],
   "source": [
    "print (a or c )"
   ]
  },
  {
   "cell_type": "code",
   "execution_count": 95,
   "id": "2b612756-0d30-46de-864b-b0ffc7bd65da",
   "metadata": {},
   "outputs": [
    {
     "name": "stdout",
     "output_type": "stream",
     "text": [
      "False\n"
     ]
    }
   ],
   "source": [
    "print( c or d ) "
   ]
  },
  {
   "cell_type": "code",
   "execution_count": 96,
   "id": "ecd5d0e5-4e07-4212-a779-7f2d902bc4eb",
   "metadata": {},
   "outputs": [
    {
     "name": "stdout",
     "output_type": "stream",
     "text": [
      "True\n"
     ]
    }
   ],
   "source": [
    "print ( ( a or b ) or ( c or d ) or ( d or a ))"
   ]
  },
  {
   "cell_type": "code",
   "execution_count": 97,
   "id": "7ae487c8-8f08-4e24-8115-340943bd9a74",
   "metadata": {},
   "outputs": [],
   "source": [
    "a = True \n",
    "b = True \n",
    "c = False\n",
    "d = False "
   ]
  },
  {
   "cell_type": "code",
   "execution_count": 98,
   "id": "8a0a180c-a64f-4113-b1b2-1d76993417f8",
   "metadata": {},
   "outputs": [
    {
     "name": "stdout",
     "output_type": "stream",
     "text": [
      "False\n"
     ]
    }
   ],
   "source": [
    "print ( not (a))"
   ]
  },
  {
   "cell_type": "code",
   "execution_count": 99,
   "id": "e83df147-63fc-4fb2-a8ae-4a016808c9fb",
   "metadata": {},
   "outputs": [
    {
     "name": "stdout",
     "output_type": "stream",
     "text": [
      "True\n"
     ]
    }
   ],
   "source": [
    "print( not (c))"
   ]
  },
  {
   "cell_type": "code",
   "execution_count": 100,
   "id": "5eaaf6ec-c0bd-4f22-a958-c43d5b2da811",
   "metadata": {},
   "outputs": [
    {
     "name": "stdout",
     "output_type": "stream",
     "text": [
      "False\n"
     ]
    }
   ],
   "source": [
    "print(not( ( a and b ) or ( a or c ) and ( b and c ) or ( d or a )))"
   ]
  },
  {
   "cell_type": "code",
   "execution_count": 101,
   "id": "0c226bf8-2618-4d89-9f2a-f0d52bb6ee3d",
   "metadata": {},
   "outputs": [
    {
     "name": "stdout",
     "output_type": "stream",
     "text": [
      "True\n"
     ]
    }
   ],
   "source": [
    "print( not(( a and c ) or ( b and d ) and ( a and b )) )"
   ]
  },
  {
   "cell_type": "markdown",
   "id": "4ba7f57e-224f-4142-b185-e73ccfe78aa0",
   "metadata": {},
   "source": [
    "# Python Comparison Operators"
   ]
  },
  {
   "cell_type": "markdown",
   "id": "b00b1dad-b7f3-4903-8eb0-733c671a6da9",
   "metadata": {},
   "source": [
    "= Assignment == Compare , Result of Comparsion Operators is always Boolean ( <,>,>=,<=,==,!=)"
   ]
  },
  {
   "cell_type": "code",
   "execution_count": 102,
   "id": "701384e4-10f3-4a21-bce3-9864e1d06252",
   "metadata": {},
   "outputs": [
    {
     "name": "stdout",
     "output_type": "stream",
     "text": [
      "True\n"
     ]
    }
   ],
   "source": [
    "c = 2<3 \n",
    "print ( c)"
   ]
  },
  {
   "cell_type": "code",
   "execution_count": 104,
   "id": "ec190292-6787-44b5-ba15-9f93515cf8a7",
   "metadata": {},
   "outputs": [
    {
     "data": {
      "text/plain": [
       "bool"
      ]
     },
     "execution_count": 104,
     "metadata": {},
     "output_type": "execute_result"
    }
   ],
   "source": [
    "type(c)"
   ]
  },
  {
   "cell_type": "code",
   "execution_count": 105,
   "id": "2162a7a4-848b-4b35-b664-c099362ef440",
   "metadata": {},
   "outputs": [
    {
     "name": "stdout",
     "output_type": "stream",
     "text": [
      "False\n"
     ]
    }
   ],
   "source": [
    "d = 2==3\n",
    "print(d)"
   ]
  },
  {
   "cell_type": "code",
   "execution_count": 106,
   "id": "451153a7-0583-45a9-b348-01c21dccc315",
   "metadata": {},
   "outputs": [
    {
     "data": {
      "text/plain": [
       "True"
      ]
     },
     "execution_count": 106,
     "metadata": {},
     "output_type": "execute_result"
    }
   ],
   "source": [
    "3 == 3.0"
   ]
  },
  {
   "cell_type": "code",
   "execution_count": 116,
   "id": "0996676d-718a-4294-bdb8-42aff3299081",
   "metadata": {},
   "outputs": [],
   "source": [
    "p = 12\n",
    "q = 8\n",
    "r = -3\n",
    "s = 5.56"
   ]
  },
  {
   "cell_type": "code",
   "execution_count": 117,
   "id": "51bc2c18-bf8f-4e37-ab67-4ce46712f239",
   "metadata": {},
   "outputs": [
    {
     "name": "stdout",
     "output_type": "stream",
     "text": [
      "False\n"
     ]
    }
   ],
   "source": [
    "print((q<p) and ( r>s )) "
   ]
  },
  {
   "cell_type": "code",
   "execution_count": 118,
   "id": "f1651e62-b425-490a-8117-a2204cc4ae90",
   "metadata": {},
   "outputs": [
    {
     "name": "stdout",
     "output_type": "stream",
     "text": [
      "True\n"
     ]
    }
   ],
   "source": [
    "print ( not( ( p==q) or ( r==s)))"
   ]
  },
  {
   "cell_type": "code",
   "execution_count": 119,
   "id": "43866c52-5086-4821-ac66-f808317dc7af",
   "metadata": {},
   "outputs": [
    {
     "data": {
      "text/plain": [
       "True"
      ]
     },
     "execution_count": 119,
     "metadata": {},
     "output_type": "execute_result"
    }
   ],
   "source": [
    "True or False and True"
   ]
  },
  {
   "cell_type": "code",
   "execution_count": 12,
   "id": "687a079c-9728-4ef4-acb4-c37e89b6ff3b",
   "metadata": {},
   "outputs": [
    {
     "ename": "NameError",
     "evalue": "name 'intp' is not defined",
     "output_type": "error",
     "traceback": [
      "\u001b[1;31m---------------------------------------------------------------------------\u001b[0m",
      "\u001b[1;31mNameError\u001b[0m                                 Traceback (most recent call last)",
      "Cell \u001b[1;32mIn[12], line 1\u001b[0m\n\u001b[1;32m----> 1\u001b[0m \u001b[38;5;28mprint\u001b[39m((intp\u001b[38;5;241m>\u001b[39m\u001b[38;5;241m=\u001b[39mr) \u001b[38;5;129;01mand\u001b[39;00m (r\u001b[38;5;241m<\u001b[39m\u001b[38;5;241m=\u001b[39ms) \u001b[38;5;129;01mor\u001b[39;00m (q\u001b[38;5;241m<\u001b[39m\u001b[38;5;241m=\u001b[39mr))\n",
      "\u001b[1;31mNameError\u001b[0m: name 'intp' is not defined"
     ]
    }
   ],
   "source": [
    "print((p>=r) and (r<=s) or (q<=r))"
   ]
  },
  {
   "cell_type": "code",
   "execution_count": 9,
   "id": "758089b1-7876-45ae-9f87-ba83f143ab62",
   "metadata": {},
   "outputs": [
    {
     "data": {
      "text/plain": [
       "True"
      ]
     },
     "execution_count": 9,
     "metadata": {},
     "output_type": "execute_result"
    }
   ],
   "source": [
    "True or False and True "
   ]
  },
  {
   "cell_type": "code",
   "execution_count": 4,
   "id": "186541f2-211d-412d-8fcc-9cb69a370c6e",
   "metadata": {},
   "outputs": [
    {
     "name": "stdout",
     "output_type": "stream",
     "text": [
      "False\n"
     ]
    }
   ],
   "source": [
    "print( (not(2!=3) and True) or (False and True))"
   ]
  },
  {
   "cell_type": "markdown",
   "id": "34a987e5-b674-4f83-90d4-14bf6713cc20",
   "metadata": {},
   "source": [
    "# Phython Bitwise Operators"
   ]
  },
  {
   "cell_type": "raw",
   "id": "7019fc95-5602-4c63-957c-347116225445",
   "metadata": {},
   "source": [
    "Operator & = Bitwise AND \n",
    "         | = Bitwise OR\n",
    "         ^ = Bitwise \n",
    "         ~ = Bitwise exclusive Or / Bitwise XOR\n",
    "        << = Shifts the bits to left / Bitwise Left Shift \n",
    "        >> = Shifts the bits to right/Bitwise Right Shift "
   ]
  },
  {
   "cell_type": "markdown",
   "id": "e3d79489-d9c7-47e4-8927-dcf01ce96492",
   "metadata": {},
   "source": [
    "# Bitwise & Operators"
   ]
  },
  {
   "cell_type": "raw",
   "id": "0fa09281-9068-4333-a125-2a98c2a530fd",
   "metadata": {},
   "source": [
    "Bitwise, Firstly convert the integer is to binary because Bitwise doesn't work on integer.  "
   ]
  },
  {
   "cell_type": "raw",
   "id": "cb1234a0-8048-4132-9020-06b97c814f65",
   "metadata": {},
   "source": [
    "Example : a=5 , b=4 , a & b = ? \n",
    "   8 4 2 1\n",
    "a= 0 1 0 1\n",
    "b= 0 1 0 0 \n",
    "& ( Jha pe bhi 1 or 1 ho , wahi pe value 1 hogi , baki har jagha 0 hoga) \n",
    "  0 1 0 0 \n",
    "a & b = 4"
   ]
  },
  {
   "cell_type": "code",
   "execution_count": 13,
   "id": "09c24457-d741-451f-a4eb-d1f0be87a236",
   "metadata": {},
   "outputs": [
    {
     "name": "stdout",
     "output_type": "stream",
     "text": [
      "4\n"
     ]
    }
   ],
   "source": [
    "a = 5\n",
    "b = 4\n",
    "print(a & b)"
   ]
  },
  {
   "cell_type": "code",
   "execution_count": 14,
   "id": "22dac5b3-2fa1-40f5-8ef3-63212f856c91",
   "metadata": {},
   "outputs": [
    {
     "name": "stdout",
     "output_type": "stream",
     "text": [
      "<class 'int'>\n"
     ]
    }
   ],
   "source": [
    "print(type(a & b ))"
   ]
  },
  {
   "cell_type": "code",
   "execution_count": 15,
   "id": "3bc8d8e7-5e76-41ec-b9da-281b4e3e813e",
   "metadata": {},
   "outputs": [
    {
     "name": "stdout",
     "output_type": "stream",
     "text": [
      "139312\n"
     ]
    }
   ],
   "source": [
    "a = 789456123\n",
    "b = 145968\n",
    "print( a & b ) "
   ]
  },
  {
   "cell_type": "code",
   "execution_count": 16,
   "id": "d59fbf3c-1c18-4285-8c07-bc518c0cce6c",
   "metadata": {},
   "outputs": [
    {
     "name": "stdout",
     "output_type": "stream",
     "text": [
      "635498936393589920319347896338\n"
     ]
    }
   ],
   "source": [
    "a = 754967406459874534238904234034\n",
    "b = 989723872947289483294634834390\n",
    "print ( a & b )"
   ]
  },
  {
   "cell_type": "markdown",
   "id": "f1242423-d4b1-408f-9865-d07f77fa72dc",
   "metadata": {},
   "source": [
    "# Bitwise OR "
   ]
  },
  {
   "cell_type": "raw",
   "id": "af527d99-2283-4138-bb14-cbcc9bc50846",
   "metadata": {},
   "source": [
    "a = 5 b = 4 a | b = ?\n",
    "   8 4 2 1\n",
    "a= 0 1 0 1 \n",
    "b= 0 1 0 0 \n",
    "   0 1 0 1 \n",
    "Bitwise OR Operator mai 1 or 1 , 1 hoga , 1 or 0 bhi 1 hoga or 0 or 0 0 hoga \n",
    "\n",
    "a = 6 b = 8 a|b = ?\n",
    "8 4 2 1 \n",
    "0 1 1 0 \n",
    "1 0 0 0\n",
    "---------\n",
    "1 1 1 0\n",
    "8 4 2 1 \n",
    "6|8= 14"
   ]
  },
  {
   "cell_type": "code",
   "execution_count": 17,
   "id": "57d732c9-a045-4291-a33d-aea461e97cc4",
   "metadata": {},
   "outputs": [
    {
     "name": "stdout",
     "output_type": "stream",
     "text": [
      "14\n"
     ]
    }
   ],
   "source": [
    "a = 6 \n",
    "b = 8\n",
    "print(a|b)"
   ]
  },
  {
   "cell_type": "code",
   "execution_count": 18,
   "id": "969eb445-cacc-45a4-97c3-9e9797f8fd17",
   "metadata": {},
   "outputs": [
    {
     "name": "stdout",
     "output_type": "stream",
     "text": [
      "536805375\n"
     ]
    }
   ],
   "source": [
    "a = 398249343\n",
    "b = 458945459\n",
    "print( a|b ) "
   ]
  },
  {
   "cell_type": "markdown",
   "id": "b3837f59-e6c5-46cc-a2a8-0ce8d4670b95",
   "metadata": {},
   "source": [
    "# Bitwise XOR ( ^ )"
   ]
  },
  {
   "cell_type": "markdown",
   "id": "2e9c3730-4e6a-42f2-ac70-c5e81cd7397c",
   "metadata": {},
   "source": [
    "Bitwise XOPR operate mai identical values is 0 and different values mai 1 ayega."
   ]
  },
  {
   "cell_type": "markdown",
   "id": "1d5617d8-aca4-45cb-aa90-388df48c171f",
   "metadata": {},
   "source": [
    "a = 5 \n",
    "b = 4\n",
    "print ( a ^ b )"
   ]
  },
  {
   "cell_type": "code",
   "execution_count": 21,
   "id": "1f69d22e-2f00-4987-9718-7602ab15296a",
   "metadata": {},
   "outputs": [
    {
     "name": "stdout",
     "output_type": "stream",
     "text": [
      "180562\n"
     ]
    }
   ],
   "source": [
    "a = 48574859\n",
    "b = 48754905\n",
    "print ( a ^ b )"
   ]
  },
  {
   "cell_type": "markdown",
   "id": "e7266fcb-f9f4-4f24-8388-737fd116afb0",
   "metadata": {},
   "source": [
    "# Bitwise Not ( ~ )"
   ]
  },
  {
   "cell_type": "raw",
   "id": "69e5eac5-7d6e-4b59-a7ef-edf6c24394b4",
   "metadata": {},
   "source": [
    "5= +ve Number \n",
    "(~5) = -6\n",
    "      8 4 2 1 \n",
    "5 =   0 1 0 1 \n",
    "(~5)= 1 0 1 0\n"
   ]
  },
  {
   "cell_type": "markdown",
   "id": "14ea9dcb-3a19-45d7-b2c2-812b19041f13",
   "metadata": {},
   "source": [
    "2'S Complement Method"
   ]
  },
  {
   "cell_type": "raw",
   "id": "a18a5a40-edf7-438c-8158-52c9b94bfc1b",
   "metadata": {},
   "source": [
    "2'S = 1'S + 1\n",
    "-------------\n",
    "-6X \n",
    "   8421\n",
    "6  =           0110\n",
    "1sComplement = 1001 ( Reserve)\n",
    "2sComplement = 1s + 1 \n",
    "    1\n",
    "1 0 0 1       (Binary Addition   0 + 0 = 0 , 0 + 1 = 1 , 1 + 0 = 1 , 1 + 1 = 0 Aary 1 ) \n",
    "+     1 \n",
    "--------\n",
    "1 0 1 0 = 2'S\n",
    "8 4 2 1 \n",
    "\n",
    "(~5) = -6\n",
    "      8 4 2 1 \n",
    "5 =   0 1 0 1 \n",
    "(~5)= 1 0 1 0\n"
   ]
  },
  {
   "cell_type": "code",
   "execution_count": 23,
   "id": "16e0b3c6-21e6-4c2d-ada9-d584727d7088",
   "metadata": {},
   "outputs": [
    {
     "name": "stdout",
     "output_type": "stream",
     "text": [
      "-6\n"
     ]
    }
   ],
   "source": [
    "a = 5 \n",
    "print(~5)"
   ]
  },
  {
   "cell_type": "code",
   "execution_count": 24,
   "id": "530c1443-fe8a-4458-9b31-68fff51f0f9c",
   "metadata": {},
   "outputs": [
    {
     "name": "stdout",
     "output_type": "stream",
     "text": [
      "-11\n"
     ]
    }
   ],
   "source": [
    "a = 10\n",
    "print(~a)"
   ]
  },
  {
   "cell_type": "raw",
   "id": "e071e1a2-39a6-439e-b293-82198888d999",
   "metadata": {},
   "source": [
    "2'S = 1'S+1\n",
    "10 = -(10+1) = -11"
   ]
  },
  {
   "cell_type": "code",
   "execution_count": 25,
   "id": "06187f90-84ec-4916-af94-f58f3447929a",
   "metadata": {},
   "outputs": [
    {
     "name": "stdout",
     "output_type": "stream",
     "text": [
      "-4857450459\n"
     ]
    }
   ],
   "source": [
    "a = 4857450458\n",
    "print( ~a)"
   ]
  },
  {
   "cell_type": "markdown",
   "id": "60c89f12-abef-4fe8-b66f-cad88fc89ceb",
   "metadata": {},
   "source": [
    "# << Bitwise Left Shift "
   ]
  },
  {
   "cell_type": "markdown",
   "id": "f7259769-7129-4d1b-93ea-8934f18b8de4",
   "metadata": {},
   "source": [
    "No Value is discard , they shift to left "
   ]
  },
  {
   "cell_type": "code",
   "execution_count": 26,
   "id": "7e74281c-2802-48d4-967d-64348676bc71",
   "metadata": {},
   "outputs": [
    {
     "name": "stdout",
     "output_type": "stream",
     "text": [
      "20\n"
     ]
    }
   ],
   "source": [
    "a = 5 \n",
    "print(5<<2)"
   ]
  },
  {
   "cell_type": "raw",
   "id": "f2ba4115-9d73-4497-bbb5-d6152bbc0e40",
   "metadata": {},
   "source": [
    "a = 5 (5<<2)\n",
    "    8 4 2 1 \n",
    "5 = 0 1 0 1 \n",
    "  0 1 0 1 0 0 = Answer is 20 ( 16+4)\n",
    "32 16 8 4 2 1 "
   ]
  },
  {
   "cell_type": "code",
   "execution_count": 27,
   "id": "044d65e0-2d14-4b88-b8d8-11b0ce6c7a60",
   "metadata": {},
   "outputs": [
    {
     "name": "stdout",
     "output_type": "stream",
     "text": [
      "28\n"
     ]
    }
   ],
   "source": [
    "a = 7 \n",
    "print(7<<2)"
   ]
  },
  {
   "cell_type": "raw",
   "id": "e929e85e-0d89-438f-aa37-f9ca83e025b7",
   "metadata": {},
   "source": [
    "    8 4 2 1 \n",
    "7=  0 1 1 1\n",
    "0  1  1 1 0 0 \n",
    "------------\n",
    "32 16 8 4 2 1 = Answer is 28 ( 16+8+4)\n"
   ]
  },
  {
   "cell_type": "code",
   "execution_count": 28,
   "id": "89a8daa5-63df-4e5d-a110-d4c83e6f417f",
   "metadata": {},
   "outputs": [
    {
     "name": "stdout",
     "output_type": "stream",
     "text": [
      "25177177152\n"
     ]
    }
   ],
   "source": [
    "a = 786786786\n",
    "print ( a << 5 )"
   ]
  },
  {
   "cell_type": "markdown",
   "id": "a2839007-4581-49fa-918e-8bc09f35fa5f",
   "metadata": {},
   "source": [
    "# Bitwise Right >>"
   ]
  },
  {
   "cell_type": "raw",
   "id": "c826fe38-e6fe-4dfe-bf31-1475f7bd6c67",
   "metadata": {},
   "source": [
    "a = 5   8 4 2 1\n",
    "    a = 0 1 0 1\n",
    "            ---- Discard \n",
    "  0 0 0 1 \n",
    "  8 4 2 1  Answer is 1 \n",
    "\n",
    "a = 7   a>>3\n",
    "8 4 2 1 \n",
    "0 1 1 1 \n",
    " ------- Discard\n",
    "0 0 0 0  Answer is 0 \n",
    "\n",
    "a = 9 a>>2\n",
    "8 4 2 1 \n",
    "1 0 0 1\n",
    "    ----Discard ( or age wale numbers will shift to right or blank mai 0 0 ayega)\n",
    "0 0 1 0\n",
    "8 4 2 1 Answer is 2 "
   ]
  },
  {
   "cell_type": "code",
   "execution_count": 32,
   "id": "d5e8a446-cc0d-410d-94a1-e09d7c24cfa9",
   "metadata": {},
   "outputs": [
    {
     "name": "stdout",
     "output_type": "stream",
     "text": [
      "1\n"
     ]
    }
   ],
   "source": [
    "a = 5 \n",
    "print( a>>2)"
   ]
  },
  {
   "cell_type": "code",
   "execution_count": 33,
   "id": "4324a2c6-9393-4445-a58b-e2731b203a50",
   "metadata": {},
   "outputs": [
    {
     "name": "stdout",
     "output_type": "stream",
     "text": [
      "0\n"
     ]
    }
   ],
   "source": [
    "a = 7 \n",
    "print(a>>3)"
   ]
  },
  {
   "cell_type": "code",
   "execution_count": 34,
   "id": "55c4dc8b-a8da-44cd-ad76-0d344378de02",
   "metadata": {},
   "outputs": [
    {
     "name": "stdout",
     "output_type": "stream",
     "text": [
      "0\n"
     ]
    }
   ],
   "source": [
    "a = 38573895359\n",
    "print( a>>78)"
   ]
  },
  {
   "cell_type": "code",
   "execution_count": 35,
   "id": "b6b2f320-fbf7-4fe6-b2ca-27c344f40113",
   "metadata": {},
   "outputs": [
    {
     "name": "stdout",
     "output_type": "stream",
     "text": [
      "-14385\n"
     ]
    }
   ],
   "source": [
    "a = -583490594054850947985678565856856956\n",
    "print(a >>105)"
   ]
  },
  {
   "cell_type": "markdown",
   "id": "beff5f66-bc70-409c-8888-20141517a8a5",
   "metadata": {},
   "source": [
    "Problem Solving Approach "
   ]
  },
  {
   "cell_type": "raw",
   "id": "d0ce3cb0-11f5-4f6e-b5dc-d810946bdd1b",
   "metadata": {},
   "source": [
    "1. Question understand ( 30% ) \n",
    "2. Solution --- Logic ( 40-50%)\n",
    "3. Coding ----(20-30%)"
   ]
  },
  {
   "cell_type": "markdown",
   "id": "95151106-1da2-411f-ad9e-13484f78e3e4",
   "metadata": {},
   "source": [
    "# Assignment Unit - 2 "
   ]
  },
  {
   "cell_type": "code",
   "execution_count": null,
   "id": "fca6df14-723d-44a6-835c-00f733cd16a8",
   "metadata": {},
   "outputs": [],
   "source": [
    "Question 1 - Write a Python program to print the following string in a specific format.\n",
    "\n",
    "Input : \"Twinkle twinkle, little star, How I wonder what you are! Up above the world so hight, Like a diamond in the sky, Twinkle, Twinkle, little star, How I wonder what you are\"\n",
    "\n",
    "output : \n",
    "Twinkle twinkle, little star,\n",
    " How I wonder what you are! Up above the world so hight, \n",
    " Like a diamond in the sky, \n",
    " Twinkle, Twinkle, little star, \n",
    " How I wonder what you are"
   ]
  },
  {
   "cell_type": "code",
   "execution_count": 39,
   "id": "77315468-0b16-4a11-9415-7c33eb0bbc5c",
   "metadata": {},
   "outputs": [
    {
     "name": "stdout",
     "output_type": "stream",
     "text": [
      "Twinkle twinkle, little star,\n",
      " How I wonder what you are! Up above the world so hight, \n",
      " Like a diamond in the sky, \n",
      " Twinkle, Twinkle, little star, \n",
      " How I wonder what you are\n"
     ]
    }
   ],
   "source": [
    "print( \"Twinkle twinkle, little star,\\n How I wonder what you are! Up above the world so hight, \\n Like a diamond in the sky, \\n Twinkle, Twinkle, little star, \\n How I wonder what you are\")\n"
   ]
  },
  {
   "cell_type": "markdown",
   "id": "fe83377a-a5c1-4b5f-aa85-578c94bcd1c5",
   "metadata": {},
   "source": [
    "# |n ----- Next Line "
   ]
  },
  {
   "cell_type": "code",
   "execution_count": null,
   "id": "286ebfb0-3cca-4052-bad0-8fd117dfd8ce",
   "metadata": {},
   "outputs": [],
   "source": [
    "Question 2 - Write a Python Program that calculates the area of circle based on the radius 10cm , 12 cm and 25, 67cm "
   ]
  },
  {
   "cell_type": "code",
   "execution_count": null,
   "id": "71a29fc2-2343-4326-98c1-91f800da11ca",
   "metadata": {},
   "outputs": [],
   "source": [
    "Area of Circle = Pie R quare \n",
    "               = 3.14 \n",
    "               = 22/7 = 3.14 \n",
    "               = 3.14 ( R * R ) "
   ]
  },
  {
   "cell_type": "code",
   "execution_count": 43,
   "id": "9844e8c0-fda4-4b2d-a80b-217890f04ab3",
   "metadata": {},
   "outputs": [
    {
     "name": "stdout",
     "output_type": "stream",
     "text": [
      " The area of circle is with 10cm radius is 314.0\n",
      " The area of circle is with 12cm radius is 452.16\n",
      " The area of circle is with 25.67cm radius is 2069.0995460000004\n",
      " The area of circle is with 67cm radius is 14095.460000000001\n"
     ]
    }
   ],
   "source": [
    "a = 10 \n",
    "print ( \" The area of circle is with 10cm radius is\" , 3.14*(a**2))\n",
    "b = 12\n",
    "print ( \" The area of circle is with 12cm radius is\" , 3.14*(b**2))\n",
    "c = 25.67\n",
    "print ( \" The area of circle is with 25.67cm radius is\" , 3.14*(c**2))\n",
    "d = 67\n",
    "print ( \" The area of circle is with 67cm radius is\" , 3.14*(d**2))"
   ]
  },
  {
   "cell_type": "code",
   "execution_count": null,
   "id": "2bc70ede-f6bd-4950-86f9-92f5c9e2e724",
   "metadata": {},
   "outputs": [],
   "source": [
    "Question3 - Write a Python program to get the volume of a sphere with radium six."
   ]
  },
  {
   "cell_type": "code",
   "execution_count": 44,
   "id": "6cc871ed-3c8f-469f-824f-aab211793239",
   "metadata": {},
   "outputs": [
    {
     "name": "stdout",
     "output_type": "stream",
     "text": [
      "the volume of sphere is 904.3199999999999\n"
     ]
    }
   ],
   "source": [
    "#volume of sphere is 4/3pier R cube \n",
    "r= 6\n",
    "volume = (4/3)*3.14*(6**3)\n",
    "print( \"the volume of sphere is\" , volume )"
   ]
  },
  {
   "cell_type": "code",
   "execution_count": null,
   "id": "d6978def-71fc-46d6-b328-eb3fd561214d",
   "metadata": {},
   "outputs": [],
   "source": [
    "Question 4 - Write a python program that will accept the base and height of a triangle and compute its area. Height 12cm and base 6cm."
   ]
  },
  {
   "cell_type": "code",
   "execution_count": 45,
   "id": "06e2b4ca-96c3-4ecc-a042-9f3a6d8b302e",
   "metadata": {},
   "outputs": [
    {
     "name": "stdout",
     "output_type": "stream",
     "text": [
      "The area of the triangle is 36.0\n"
     ]
    }
   ],
   "source": [
    "#Area of triangle is (h*b)/2\n",
    "\n",
    "h=12\n",
    "b=6\n",
    "Area = (h*b)/2\n",
    "print( \"The area of the triangle is\" , Area)"
   ]
  },
  {
   "cell_type": "code",
   "execution_count": null,
   "id": "0539caef-5ee2-4744-ad00-1bf656c1aaee",
   "metadata": {},
   "outputs": [],
   "source": [
    "Question 5 - Write a Python program to compute the simple interest, P = 100000, r = 8% , T = 1 year. "
   ]
  },
  {
   "cell_type": "code",
   "execution_count": 46,
   "id": "d789e644-4e84-4230-97d5-3aee0c0d911d",
   "metadata": {},
   "outputs": [
    {
     "name": "stdout",
     "output_type": "stream",
     "text": [
      "The Simple Interest Calculated is 8000.0\n"
     ]
    }
   ],
   "source": [
    "#The formula for the simple interest is (P*R*T)/1000\n",
    "\n",
    "p=100000\n",
    "r=8\n",
    "T=1\n",
    "SI= (p*r*T)/100\n",
    "print(\"The Simple Interest Calculated is\" , SI)"
   ]
  },
  {
   "cell_type": "code",
   "execution_count": null,
   "id": "08c22d65-f440-4843-8da7-1cf32b22363e",
   "metadata": {},
   "outputs": [],
   "source": [
    "Question 6 - Write a Python Program to convert the distance (in feet) to inches, yards, and miles."
   ]
  },
  {
   "cell_type": "code",
   "execution_count": 47,
   "id": "01e1484c-9758-4334-83e0-90cc684c2886",
   "metadata": {},
   "outputs": [
    {
     "name": "stdout",
     "output_type": "stream",
     "text": [
      "the inches are 144\n",
      "the yards are 3.96\n",
      "the miles are 0.02272728\n"
     ]
    }
   ],
   "source": [
    "#1 Foot = 12 inches\n",
    "#1 Foot = 0.33 yards\n",
    "#1 Foot = 0.00189394 miles\n",
    "\n",
    "f = 12\n",
    "d_inches = f * 12\n",
    "d_yards = f * 0.33\n",
    "d_miles = f * 0.00189394\n",
    "\n",
    "print(\"the inches are\" , d_inches)\n",
    "print(\"the yards are\", d_yards)\n",
    "print(\"the miles are\", d_miles)"
   ]
  },
  {
   "cell_type": "code",
   "execution_count": null,
   "id": "3de0c3c9-d7ad-4ea3-bf00-b71c6c7cb291",
   "metadata": {},
   "outputs": [],
   "source": [
    "Question 7 - Write a Python Program to calculate the hyptenuse of a right angled triangle."
   ]
  },
  {
   "cell_type": "code",
   "execution_count": null,
   "id": "f374a352-a654-4ca4-bc84-bdd4d156772f",
   "metadata": {},
   "outputs": [],
   "source": [
    "Python has Library --- Maths Library----Square Root = sqrt, Square = **"
   ]
  },
  {
   "cell_type": "code",
   "execution_count": 48,
   "id": "7e22abe6-03bc-4696-b19c-003351e27049",
   "metadata": {},
   "outputs": [
    {
     "name": "stdout",
     "output_type": "stream",
     "text": [
      "the hypoteneus of the triangle is 5.0\n"
     ]
    }
   ],
   "source": [
    "from math import sqrt \n",
    "base = 3 \n",
    "height = 4\n",
    "hypotenuse = sqrt(base**2 + height**2)\n",
    "print(\"the hypoteneus of the triangle is\" , hypotenuse)"
   ]
  },
  {
   "cell_type": "code",
   "execution_count": null,
   "id": "ee6cf696-63b0-4f85-a2f7-a8d414c103e7",
   "metadata": {},
   "outputs": [],
   "source": [
    "Question 8 - Write a Python Program to swap two variables "
   ]
  },
  {
   "cell_type": "code",
   "execution_count": 49,
   "id": "6fc24397-f0a6-4b08-a327-b032fcb663ed",
   "metadata": {},
   "outputs": [
    {
     "name": "stdout",
     "output_type": "stream",
     "text": [
      "Value of x 50\n",
      "Value of y 10\n"
     ]
    }
   ],
   "source": [
    "# Python programs to demonstrate \n",
    "# Swapping of two variables \n",
    "\n",
    "x = 10\n",
    "y = 50 \n",
    "\n",
    "# Swapping of the two variables \n",
    "# Using third variables \n",
    "temp = x\n",
    "x = y\n",
    "y = temp\n",
    "\n",
    "print(\"Value of x\" , x)\n",
    "print(\"Value of y\" , y )"
   ]
  },
  {
   "cell_type": "code",
   "execution_count": null,
   "id": "58b286ec-d187-4655-bbfb-21cd8abc7d1b",
   "metadata": {},
   "outputs": [],
   "source": [
    "Question 9 - Write a program to calculate the area of square of side 10cm"
   ]
  },
  {
   "cell_type": "code",
   "execution_count": 51,
   "id": "63baa07b-88d6-4ab1-9357-72b2a792cfb0",
   "metadata": {},
   "outputs": [
    {
     "name": "stdout",
     "output_type": "stream",
     "text": [
      "Area of the square 100\n"
     ]
    }
   ],
   "source": [
    "side = 10\n",
    "Area = side*side \n",
    "print(\"Area of the square\", Area)"
   ]
  },
  {
   "cell_type": "code",
   "execution_count": null,
   "id": "0db2dde3-69cc-4875-9807-415442ec379f",
   "metadata": {},
   "outputs": [],
   "source": [
    "Question 10 - Write a program to convert 250 kg into gram"
   ]
  },
  {
   "cell_type": "code",
   "execution_count": 55,
   "id": "77f3e6a5-feb1-4b3e-83ee-cf8b052473d8",
   "metadata": {},
   "outputs": [
    {
     "name": "stdout",
     "output_type": "stream",
     "text": [
      "250kg is 250000 grams\n"
     ]
    }
   ],
   "source": [
    "kilo = 250 \n",
    "a = kilo*1000\n",
    "print( \"250kg is\", a , \"grams\")"
   ]
  },
  {
   "cell_type": "markdown",
   "id": "ad92fdd0-4818-4995-9e21-5e37ead9f7fc",
   "metadata": {},
   "source": [
    "# Built in functions"
   ]
  },
  {
   "cell_type": "raw",
   "id": "2f8ccd2f-ba59-497d-9f7c-7f1277a2fbb3",
   "metadata": {},
   "source": [
    "Round function \n",
    "Divmod function\n",
    "Is intance function \n",
    "Power function"
   ]
  },
  {
   "cell_type": "code",
   "execution_count": null,
   "id": "77db6cfb-607e-470a-b46b-bb9aa3082a82",
   "metadata": {},
   "outputs": [],
   "source": [
    "# Types Of Functions in Python "
   ]
  },
  {
   "cell_type": "code",
   "execution_count": null,
   "id": "de4aae70-3c72-4423-9ded-764e15a3964d",
   "metadata": {},
   "outputs": [],
   "source": [
    "There are two types of functions in Python : "
   ]
  },
  {
   "cell_type": "code",
   "execution_count": null,
   "id": "6be7e262-e800-4d7b-a059-e5382aa7b8e4",
   "metadata": {},
   "outputs": [],
   "source": [
    "1. User-Defined Functions - These types of functions are defined by the user to perform any specific task."
   ]
  },
  {
   "cell_type": "code",
   "execution_count": null,
   "id": "4a3991a9-a251-4f55-8c6f-b443b8ebc6b3",
   "metadata": {},
   "outputs": [],
   "source": [
    "2. Built-in Functions - These are pre-defined functions in python. "
   ]
  },
  {
   "cell_type": "code",
   "execution_count": null,
   "id": "48fffd14-49cf-4f62-97bf-820658bcd578",
   "metadata": {},
   "outputs": [],
   "source": [
    "The Python built-in functions are defined as the functions whose functionality is pre-defined in Python. The python"
   ]
  },
  {
   "cell_type": "markdown",
   "id": "935ebc36-7cef-4684-8522-834692ff76c7",
   "metadata": {},
   "source": [
    "# Round Function"
   ]
  },
  {
   "cell_type": "markdown",
   "id": "04869935-b133-4a48-bdda-5d03ec13be97",
   "metadata": {},
   "source": [
    "Round function in python programming is an inbuilt function. It is used to round off numbers up to the specified number of decimals points. "
   ]
  },
  {
   "cell_type": "code",
   "execution_count": 57,
   "id": "cb51efc7-a8ff-4860-8621-56c6230b4ae3",
   "metadata": {},
   "outputs": [
    {
     "name": "stdout",
     "output_type": "stream",
     "text": [
      "6\n"
     ]
    }
   ],
   "source": [
    "print(round(5.6565))"
   ]
  },
  {
   "cell_type": "code",
   "execution_count": 58,
   "id": "60e60da7-e867-4f77-8eee-1a20fafccebf",
   "metadata": {},
   "outputs": [
    {
     "name": "stdout",
     "output_type": "stream",
     "text": [
      "5\n"
     ]
    }
   ],
   "source": [
    "print(round(4.56787))"
   ]
  },
  {
   "cell_type": "code",
   "execution_count": 59,
   "id": "ea739304-846a-490e-b834-505f14609794",
   "metadata": {},
   "outputs": [
    {
     "name": "stdout",
     "output_type": "stream",
     "text": [
      "13\n"
     ]
    }
   ],
   "source": [
    "a = 12.6\n",
    "print(round(a))"
   ]
  },
  {
   "cell_type": "code",
   "execution_count": 60,
   "id": "d35c410b-e39e-4845-be15-bf0961fc1b58",
   "metadata": {},
   "outputs": [
    {
     "data": {
      "text/plain": [
       "14.457"
      ]
     },
     "execution_count": 60,
     "metadata": {},
     "output_type": "execute_result"
    }
   ],
   "source": [
    "a = 14.456545\n",
    "round(a,3)"
   ]
  },
  {
   "cell_type": "code",
   "execution_count": 61,
   "id": "997c7aae-c963-4052-8d63-3aa2bdc7f22a",
   "metadata": {},
   "outputs": [
    {
     "data": {
      "text/plain": [
       "14.4565"
      ]
     },
     "execution_count": 61,
     "metadata": {},
     "output_type": "execute_result"
    }
   ],
   "source": [
    "round(a,4)"
   ]
  },
  {
   "cell_type": "code",
   "execution_count": 64,
   "id": "4711760c-6729-4334-beb4-8b9359b383ff",
   "metadata": {},
   "outputs": [
    {
     "name": "stdout",
     "output_type": "stream",
     "text": [
      "1232333.67879\n"
     ]
    }
   ],
   "source": [
    "print(round(1232333.67878687676565,5))"
   ]
  },
  {
   "cell_type": "code",
   "execution_count": null,
   "id": "15f8c473-8a8a-4da2-946f-8d00cc04c806",
   "metadata": {},
   "outputs": [],
   "source": [
    "\"\"\"These comas are used to give remarks in python , to only read the statement but not to execute or run in program \"\"\""
   ]
  },
  {
   "cell_type": "code",
   "execution_count": 66,
   "id": "b9a058bc-6765-4e20-81fb-df5e56a5e789",
   "metadata": {},
   "outputs": [
    {
     "name": "stdout",
     "output_type": "stream",
     "text": [
      "689\n"
     ]
    }
   ],
   "source": [
    "\"\"\"Mohan buys 3 tablets cost of tablet 1\"\"\"\n",
    "\n",
    "tablet_one = 45.67\n",
    "tablet_two = 68.967\n",
    "tablet_three = 574.784\n",
    "print(round(tablet_one+tablet_two+tablet_three))"
   ]
  },
  {
   "cell_type": "markdown",
   "id": "9a4c57f1-e853-48d0-b5a6-37734a1f3abd",
   "metadata": {},
   "source": [
    "# Div-mod function "
   ]
  },
  {
   "cell_type": "markdown",
   "id": "61b36736-309e-48ea-930a-ccec317afd2f",
   "metadata": {},
   "source": [
    "The divmod() method in python takes two numbers and returns a pair of numbers consisting of their quotient and remainder."
   ]
  },
  {
   "cell_type": "code",
   "execution_count": null,
   "id": "a5e220bc-3f9a-4d6d-a273-d7e7e79e8e30",
   "metadata": {},
   "outputs": [],
   "source": [
    "divmod(x,y) outputs the quotient and reminder in the tuple (Tuple will be convered later ) "
   ]
  },
  {
   "cell_type": "code",
   "execution_count": 67,
   "id": "3855818c-9904-41e2-9b76-7b44c641874a",
   "metadata": {},
   "outputs": [
    {
     "data": {
      "text/plain": [
       "(5, 2)"
      ]
     },
     "execution_count": 67,
     "metadata": {},
     "output_type": "execute_result"
    }
   ],
   "source": [
    "divmod ( 27, 5)\n",
    "(5,2) -> Tuple"
   ]
  },
  {
   "cell_type": "code",
   "execution_count": null,
   "id": "76f7958b-7309-4b85-99ce-2df1714c2011",
   "metadata": {},
   "outputs": [],
   "source": [
    "Tuples are used to store multiple items in a single variable."
   ]
  },
  {
   "cell_type": "code",
   "execution_count": 1,
   "id": "c8793af4-cf2b-4dd8-9691-a44f5487ec83",
   "metadata": {},
   "outputs": [
    {
     "data": {
      "text/plain": [
       "(11, 2)"
      ]
     },
     "execution_count": 1,
     "metadata": {},
     "output_type": "execute_result"
    }
   ],
   "source": [
    "divmod(35,3)"
   ]
  },
  {
   "cell_type": "code",
   "execution_count": 2,
   "id": "bce3ae77-30ad-496d-992e-fecd71f08bbb",
   "metadata": {},
   "outputs": [
    {
     "name": "stdout",
     "output_type": "stream",
     "text": [
      "(3, 4)\n"
     ]
    }
   ],
   "source": [
    "a = divmod(25,7)\n",
    "print(a)"
   ]
  },
  {
   "cell_type": "code",
   "execution_count": 3,
   "id": "7e6f0611-a46d-414b-8d17-e2f466c3bc5e",
   "metadata": {},
   "outputs": [
    {
     "data": {
      "text/plain": [
       "tuple"
      ]
     },
     "execution_count": 3,
     "metadata": {},
     "output_type": "execute_result"
    }
   ],
   "source": [
    "type (a)"
   ]
  },
  {
   "cell_type": "code",
   "execution_count": 5,
   "id": "77a75067-865b-41a6-930b-71930d687b12",
   "metadata": {},
   "outputs": [
    {
     "name": "stdout",
     "output_type": "stream",
     "text": [
      "3\n"
     ]
    }
   ],
   "source": [
    "a[0]\n",
    "print(a[0])"
   ]
  },
  {
   "cell_type": "code",
   "execution_count": 6,
   "id": "b14a08b9-3577-48df-93ad-8e9af4f4fbcc",
   "metadata": {},
   "outputs": [
    {
     "name": "stdout",
     "output_type": "stream",
     "text": [
      "4\n"
     ]
    }
   ],
   "source": [
    "a[1]\n",
    "print(a[1])"
   ]
  },
  {
   "cell_type": "code",
   "execution_count": null,
   "id": "7275d083-ee82-47b4-8828-a7e6690ac41c",
   "metadata": {},
   "outputs": [],
   "source": [
    "In Python index nunmber starts with Zero not One. "
   ]
  },
  {
   "cell_type": "code",
   "execution_count": 7,
   "id": "4bd108f7-a1c6-4291-99e0-5a1ccec58ee1",
   "metadata": {},
   "outputs": [
    {
     "data": {
      "text/plain": [
       "3"
      ]
     },
     "execution_count": 7,
     "metadata": {},
     "output_type": "execute_result"
    }
   ],
   "source": [
    "25//7"
   ]
  },
  {
   "cell_type": "code",
   "execution_count": 8,
   "id": "5851c314-2200-46b0-9fe4-7ab457c82f55",
   "metadata": {},
   "outputs": [
    {
     "data": {
      "text/plain": [
       "4"
      ]
     },
     "execution_count": 8,
     "metadata": {},
     "output_type": "execute_result"
    }
   ],
   "source": [
    "25%7"
   ]
  },
  {
   "cell_type": "code",
   "execution_count": 9,
   "id": "b6be14c5-ea83-4ba5-90eb-b241f9aad105",
   "metadata": {},
   "outputs": [
    {
     "name": "stdout",
     "output_type": "stream",
     "text": [
      "(41.0, 0.23242000000000473)\n"
     ]
    }
   ],
   "source": [
    "a = divmod(123.23242 , 3 )\n",
    "print(a)"
   ]
  },
  {
   "cell_type": "code",
   "execution_count": 10,
   "id": "ddc27461-ceb3-4024-a837-1bb687628c48",
   "metadata": {},
   "outputs": [
    {
     "name": "stdout",
     "output_type": "stream",
     "text": [
      "(476858906351251, 29955)\n"
     ]
    }
   ],
   "source": [
    "print( divmod (23792398273489347349 , 49894))"
   ]
  },
  {
   "cell_type": "code",
   "execution_count": 11,
   "id": "351db51a-56cd-4dc5-bfe3-a9bc1e067f99",
   "metadata": {},
   "outputs": [
    {
     "name": "stdout",
     "output_type": "stream",
     "text": [
      "(12.0, 4.788999999999987) (11.0, 5.788999999999987) (10.0, 8.788999999999987) (9.0, 13.788999999999987)\n"
     ]
    }
   ],
   "source": [
    "\"\"\"Divde the number 148.789 by 12, 13 ,14 and 15 separtely , and their quotient, remainder add\"\"\"\n",
    "a = divmod(148.789, 12)\n",
    "b = divmod(148.789, 13)\n",
    "c= divmod(148.789, 14)\n",
    "d= divmod(148.789, 15)\n",
    "print(a,b,c,d)"
   ]
  },
  {
   "cell_type": "code",
   "execution_count": 13,
   "id": "5117cde8-4631-47a3-89c7-70d0585488cd",
   "metadata": {},
   "outputs": [
    {
     "name": "stdout",
     "output_type": "stream",
     "text": [
      "sum of quotient are 42.0\n",
      "sum of reminders are 33.15599999999995\n"
     ]
    }
   ],
   "source": [
    "q = a[0] + b[0] + c[0] + d[0] \n",
    "print(\"sum of quotient are\" , q)\n",
    "r = a[1] + b[1] + c[1] + d[1] \n",
    "print(\"sum of reminders are\" , r)"
   ]
  },
  {
   "cell_type": "code",
   "execution_count": 17,
   "id": "07704b36-951a-4c6b-b91a-5fa36e9c9c5b",
   "metadata": {},
   "outputs": [
    {
     "data": {
      "text/plain": [
       "33"
      ]
     },
     "execution_count": 17,
     "metadata": {},
     "output_type": "execute_result"
    }
   ],
   "source": [
    "round(r)"
   ]
  },
  {
   "cell_type": "markdown",
   "id": "979aaf85-b9e5-4073-8eef-60e6c67c19f2",
   "metadata": {},
   "source": [
    "# Isintance Function "
   ]
  },
  {
   "cell_type": "markdown",
   "id": "0ca7e0e4-6c04-4e47-8ebb-79065b095018",
   "metadata": {},
   "source": [
    "The isinstance() function returns True if the specified objects is of the specified type, otherwise False. \n",
    "If the type parameter is a tuple, this function will return True if the object is one of the types in the tuple. "
   ]
  },
  {
   "cell_type": "code",
   "execution_count": null,
   "id": "5c4ff458-2cc9-414e-a9e4-d351bb070b6d",
   "metadata": {},
   "outputs": [],
   "source": [
    "# Syntax "
   ]
  },
  {
   "cell_type": "code",
   "execution_count": 23,
   "id": "4e6f25b6-08e5-494b-bacb-0384ae334368",
   "metadata": {},
   "outputs": [
    {
     "name": "stdout",
     "output_type": "stream",
     "text": [
      "True\n",
      "False\n",
      "True\n"
     ]
    },
    {
     "data": {
      "text/plain": [
       "'Isintance class type is blood'"
      ]
     },
     "execution_count": 23,
     "metadata": {},
     "output_type": "execute_result"
    }
   ],
   "source": [
    "\"\"\"isintance(object, type)\"\"\"\n",
    "\n",
    "print(isinstance(1,int))\n",
    "print(isinstance(1.0 , int))\n",
    "print(isinstance(1.0,(int,float)))\n",
    "\n",
    "\"\"\"Isintance class type is blood\"\"\""
   ]
  },
  {
   "cell_type": "code",
   "execution_count": 24,
   "id": "ed02b2c2-5519-45d5-b4f6-8e89ffee6fbb",
   "metadata": {},
   "outputs": [
    {
     "data": {
      "text/plain": [
       "False"
      ]
     },
     "execution_count": 24,
     "metadata": {},
     "output_type": "execute_result"
    }
   ],
   "source": [
    "isinstance((93,45) , (int,float)) \"\"\"Tuple is not possible in object\"\"\""
   ]
  },
  {
   "cell_type": "code",
   "execution_count": 39,
   "id": "64e02ce6-545e-4c38-b950-88f33325b361",
   "metadata": {},
   "outputs": [
    {
     "name": "stdout",
     "output_type": "stream",
     "text": [
      "True\n"
     ]
    }
   ],
   "source": [
    "print(isinstance(\"python is amazing\",(int,float,str)))"
   ]
  },
  {
   "cell_type": "code",
   "execution_count": 36,
   "id": "4d36b449-3010-4894-9746-7f82df3cfcd3",
   "metadata": {},
   "outputs": [
    {
     "data": {
      "text/plain": [
       "True"
      ]
     },
     "execution_count": 36,
     "metadata": {},
     "output_type": "execute_result"
    }
   ],
   "source": [
    "isinstance(3.78,(float,int,complex))"
   ]
  },
  {
   "cell_type": "markdown",
   "id": "e8657757-0efc-49ee-93b8-0426a57d47e3",
   "metadata": {},
   "source": [
    "# Power Function "
   ]
  },
  {
   "cell_type": "code",
   "execution_count": null,
   "id": "13f612ff-8674-4a7e-ae0f-a68b69a7b751",
   "metadata": {},
   "outputs": [],
   "source": [
    "The pow() function returns the value x to the power of y (xy)"
   ]
  },
  {
   "cell_type": "code",
   "execution_count": null,
   "id": "bca520fc-07cd-42be-a4da-02569149abeb",
   "metadata": {},
   "outputs": [],
   "source": [
    "If a third parameter is present, it returns x to the power of y, modulus z. \n",
    "Pow(x,y,z)-x raise to the power y and remainder by z\n",
    "\n",
    "pow(x,y)\n",
    "pow(2,4) = 16"
   ]
  },
  {
   "cell_type": "code",
   "execution_count": 40,
   "id": "48fb28d2-b241-426c-8e69-ffc1e8a071b2",
   "metadata": {},
   "outputs": [
    {
     "data": {
      "text/plain": [
       "'x,y,z'"
      ]
     },
     "execution_count": 40,
     "metadata": {},
     "output_type": "execute_result"
    }
   ],
   "source": [
    "pow(3,4,8)\n",
    "\"\"\"x,y,z\"\"\""
   ]
  },
  {
   "cell_type": "code",
   "execution_count": 41,
   "id": "f8ac1920-3bbc-4725-98c8-de5ea7ce30e7",
   "metadata": {},
   "outputs": [
    {
     "data": {
      "text/plain": [
       "16"
      ]
     },
     "execution_count": 41,
     "metadata": {},
     "output_type": "execute_result"
    }
   ],
   "source": [
    "pow(2,4)"
   ]
  },
  {
   "cell_type": "code",
   "execution_count": 42,
   "id": "ef311344-a4b0-4d95-ab44-f6fc1ba5fc51",
   "metadata": {},
   "outputs": [
    {
     "data": {
      "text/plain": [
       "16"
      ]
     },
     "execution_count": 42,
     "metadata": {},
     "output_type": "execute_result"
    }
   ],
   "source": [
    "2**4"
   ]
  },
  {
   "cell_type": "code",
   "execution_count": 43,
   "id": "de14cecb-6b35-4857-8060-bebae916ad1e",
   "metadata": {},
   "outputs": [
    {
     "data": {
      "text/plain": [
       "892433931724899592133340503925107044376202040970794580884598711678709679913526717581436810411421589606106863357126712799072265625"
      ]
     },
     "execution_count": 43,
     "metadata": {},
     "output_type": "execute_result"
    }
   ],
   "source": [
    "pow(45,78)"
   ]
  },
  {
   "cell_type": "code",
   "execution_count": 45,
   "id": "db88035b-afbe-4b4a-a889-ba11706d16e4",
   "metadata": {},
   "outputs": [
    {
     "data": {
      "text/plain": [
       "104.85760000000002"
      ]
     },
     "execution_count": 45,
     "metadata": {},
     "output_type": "execute_result"
    }
   ],
   "source": [
    "pow(3.2,4)"
   ]
  },
  {
   "cell_type": "code",
   "execution_count": 46,
   "id": "ee1491fc-baf3-4ef0-aef0-6b8e1bb8673f",
   "metadata": {},
   "outputs": [
    {
     "data": {
      "text/plain": [
       "(-5+12j)"
      ]
     },
     "execution_count": 46,
     "metadata": {},
     "output_type": "execute_result"
    }
   ],
   "source": [
    "pow(2+3j, 2)"
   ]
  },
  {
   "cell_type": "code",
   "execution_count": 47,
   "id": "350f984a-7645-41d9-ad5e-3fc8e1e6d034",
   "metadata": {},
   "outputs": [
    {
     "data": {
      "text/plain": [
       "2"
      ]
     },
     "execution_count": 47,
     "metadata": {},
     "output_type": "execute_result"
    }
   ],
   "source": [
    "pow(2,4,7) \"\"\"2 raise to the 4 then value will be divided by 7\"\"\""
   ]
  },
  {
   "cell_type": "code",
   "execution_count": 48,
   "id": "4f4bdff5-ae99-4031-8b96-9021ec32eb87",
   "metadata": {},
   "outputs": [
    {
     "data": {
      "text/plain": [
       "1"
      ]
     },
     "execution_count": 48,
     "metadata": {},
     "output_type": "execute_result"
    }
   ],
   "source": [
    "pow(3,4,5) \"\"\"3 raise to the power 4 then value will be divided by 5 then the reminder is the answer of pow function\"\"\""
   ]
  },
  {
   "cell_type": "code",
   "execution_count": 50,
   "id": "5adadc40-6be5-4198-bd56-45beb46d179e",
   "metadata": {},
   "outputs": [
    {
     "name": "stdout",
     "output_type": "stream",
     "text": [
      "2\n",
      "6\n",
      "4\n",
      "5\n"
     ]
    }
   ],
   "source": [
    "\"\"\"24 raise to the power 2,3,4,5 and divide it by 7 find the remainder in each case\"\"\"\n",
    "\n",
    "print(pow(24,2,7))\n",
    "print(pow(24,3,7))\n",
    "print(pow(24,4,7))\n",
    "print(pow(24,5,7))"
   ]
  },
  {
   "cell_type": "code",
   "execution_count": 51,
   "id": "eb4560f5-29ee-4ec2-95dd-ebad0cf8a8a6",
   "metadata": {},
   "outputs": [
    {
     "name": "stdout",
     "output_type": "stream",
     "text": [
      "47\n"
     ]
    }
   ],
   "source": [
    "\"\"\"63 raise to the power 45 and divide it by 52 find the reminder\"\"\"\n",
    "\n",
    "a = pow(63,45,52)\n",
    "print(a)"
   ]
  },
  {
   "cell_type": "markdown",
   "id": "bd65bb1b-63c5-4143-84a3-782e83529618",
   "metadata": {},
   "source": [
    "# Built in Functions "
   ]
  },
  {
   "cell_type": "code",
   "execution_count": null,
   "id": "506d12bc-9c85-4a6e-a22b-9e5297c38dec",
   "metadata": {},
   "outputs": [],
   "source": [
    "Input Function \n",
    "int Function\n",
    "float Function\n",
    "len , min , max function \n",
    "sorted Function\n",
    "help()"
   ]
  },
  {
   "cell_type": "markdown",
   "id": "fce4f816-6068-43b5-b05f-9d0600bedd99",
   "metadata": {},
   "source": [
    "# input function "
   ]
  },
  {
   "cell_type": "markdown",
   "id": "11bb98a2-3ae6-48b8-b623-8c6c2a8b8e00",
   "metadata": {},
   "source": [
    "Developers often have a need to interact with users, either to get data or to provide some sort of result. \n",
    "\n",
    "input() : This function first takes the input from the user and converts it into a string. The type of the returned object always will be <type'str'>.\n",
    "The type of the retuned object always will be <type'str'>. It does not evaluate the expression it just returns the complete statement as String.\n",
    "\n",
    "Syntax : \n",
    "\n",
    "inp = input('Statement')\n",
    "\n",
    "Python input() function is used to take user input. By default, it returns the user input in form of a string.\n",
    "Here the variable a will take the data type string, but lets say if there is any integer or float or any other number than we can convert the string\n",
    "data type to another data type."
   ]
  },
  {
   "cell_type": "markdown",
   "id": "882c805c-7ffb-4ca5-a484-44a38944a796",
   "metadata": {},
   "source": [
    "# Int Function "
   ]
  },
  {
   "cell_type": "markdown",
   "id": "37e1b6fd-8ef3-432b-a7be-140403d80831",
   "metadata": {},
   "source": [
    "The int() function convert the specified value into an integer number. "
   ]
  },
  {
   "cell_type": "markdown",
   "id": "ce9697a7-6df9-4f8f-a7c3-c4f58256865c",
   "metadata": {},
   "source": [
    "# Float Function"
   ]
  },
  {
   "cell_type": "markdown",
   "id": "15793325-9906-4f7d-865c-3ab9b6e63bb9",
   "metadata": {},
   "source": [
    "Float is a function or reusable code in the Python programming language that converts values into floating point numbers.\n",
    "Floating point numbers are decimal values or fractional numbers like 133.5 "
   ]
  },
  {
   "cell_type": "markdown",
   "id": "d9bd53b2-af74-434a-92ac-6d18c7d0ffb8",
   "metadata": {},
   "source": [
    "# input( ) , int( ) and float( )"
   ]
  },
  {
   "cell_type": "code",
   "execution_count": 52,
   "id": "30f039b7-a8d3-458b-87e0-4f06d9f59dfc",
   "metadata": {},
   "outputs": [
    {
     "name": "stdin",
     "output_type": "stream",
     "text": [
      "Enter the value 45\n"
     ]
    }
   ],
   "source": [
    "x = input(\"Enter the value\")"
   ]
  },
  {
   "cell_type": "code",
   "execution_count": 53,
   "id": "c3ce61b0-ec50-4690-b1bd-33ddc2edbbe9",
   "metadata": {},
   "outputs": [
    {
     "name": "stdout",
     "output_type": "stream",
     "text": [
      "45\n"
     ]
    }
   ],
   "source": [
    "print(x)"
   ]
  },
  {
   "cell_type": "code",
   "execution_count": 54,
   "id": "ee75ea03-160a-41e2-91a9-3260c065ab3f",
   "metadata": {},
   "outputs": [
    {
     "name": "stdout",
     "output_type": "stream",
     "text": [
      "<class 'str'>\n"
     ]
    }
   ],
   "source": [
    "print(type(x))"
   ]
  },
  {
   "cell_type": "code",
   "execution_count": 55,
   "id": "10177cc7-93b0-4e78-9b4b-e364c99021ef",
   "metadata": {},
   "outputs": [
    {
     "ename": "TypeError",
     "evalue": "unsupported operand type(s) for -: 'str' and 'int'",
     "output_type": "error",
     "traceback": [
      "\u001b[1;31m---------------------------------------------------------------------------\u001b[0m",
      "\u001b[1;31mTypeError\u001b[0m                                 Traceback (most recent call last)",
      "Cell \u001b[1;32mIn[55], line 1\u001b[0m\n\u001b[1;32m----> 1\u001b[0m \u001b[38;5;28mprint\u001b[39m(x\u001b[38;5;241m-\u001b[39m\u001b[38;5;241m21\u001b[39m)\n",
      "\u001b[1;31mTypeError\u001b[0m: unsupported operand type(s) for -: 'str' and 'int'"
     ]
    }
   ],
   "source": [
    "print(x-21) ( In str data type +,- is not possible)"
   ]
  },
  {
   "cell_type": "code",
   "execution_count": 56,
   "id": "5642d456-eda0-4f06-b2c7-08ac61bfe618",
   "metadata": {},
   "outputs": [],
   "source": [
    "x = int(x)"
   ]
  },
  {
   "cell_type": "code",
   "execution_count": 57,
   "id": "107a71b0-f6c3-47c4-b9c7-0bf24912b2c2",
   "metadata": {},
   "outputs": [
    {
     "name": "stdout",
     "output_type": "stream",
     "text": [
      "45\n",
      "<class 'int'>\n"
     ]
    }
   ],
   "source": [
    "print(x)\n",
    "print(type(x))"
   ]
  },
  {
   "cell_type": "code",
   "execution_count": 59,
   "id": "8fbacbfc-3854-4ca1-bfbf-df045fbc8ce4",
   "metadata": {},
   "outputs": [
    {
     "name": "stdout",
     "output_type": "stream",
     "text": [
      "24\n",
      "66\n"
     ]
    }
   ],
   "source": [
    "print(x-21)\n",
    "print(x+21)"
   ]
  },
  {
   "cell_type": "code",
   "execution_count": 60,
   "id": "66745f8a-855c-4b00-af35-a0e8f6cb86d0",
   "metadata": {},
   "outputs": [
    {
     "name": "stdin",
     "output_type": "stream",
     "text": [
      "Hello user, please enter your value 5.2\n"
     ]
    }
   ],
   "source": [
    "a = input( \"Hello user, please enter your value\")"
   ]
  },
  {
   "cell_type": "code",
   "execution_count": 61,
   "id": "387da88e-8fd5-4c36-96c7-e88a9c107739",
   "metadata": {},
   "outputs": [
    {
     "name": "stdout",
     "output_type": "stream",
     "text": [
      "5.2\n",
      "<class 'str'>\n"
     ]
    }
   ],
   "source": [
    "print(a)\n",
    "print(type(a))"
   ]
  },
  {
   "cell_type": "code",
   "execution_count": 62,
   "id": "90a797c1-2f96-4051-8182-9e54a20a5c72",
   "metadata": {},
   "outputs": [],
   "source": [
    "a = float(a)"
   ]
  },
  {
   "cell_type": "code",
   "execution_count": 63,
   "id": "b74e34cd-97b9-4c9a-b8d8-be6544c7a38d",
   "metadata": {},
   "outputs": [
    {
     "name": "stdout",
     "output_type": "stream",
     "text": [
      "5.2\n",
      "<class 'float'>\n"
     ]
    }
   ],
   "source": [
    "print(a)\n",
    "print(type(a))"
   ]
  },
  {
   "cell_type": "code",
   "execution_count": 64,
   "id": "cb9659e6-f406-4e68-90ad-20aaffa42c29",
   "metadata": {},
   "outputs": [
    {
     "name": "stdout",
     "output_type": "stream",
     "text": [
      "4.0\n",
      "10.4\n"
     ]
    }
   ],
   "source": [
    "print(a-1.2)\n",
    "print(a*2)"
   ]
  },
  {
   "cell_type": "code",
   "execution_count": 66,
   "id": "a92452a7-0739-4931-b4f1-9c6583044869",
   "metadata": {},
   "outputs": [
    {
     "name": "stdin",
     "output_type": "stream",
     "text": [
      "Enter the marks of maths 85\n",
      "Enter the marks of science 80\n",
      "Enter the marks of social 75\n",
      "Enter the marks of english 65\n",
      "Enter the marks of Hindi 90\n"
     ]
    }
   ],
   "source": [
    "\"\"\"Lets make a result of the student, ask the user to enter the marks of eng, hin, maths,social, and find out ther percent of the student\"\"\"\n",
    "\n",
    "a = input(\"Enter the marks of maths\")\n",
    "b = input(\"Enter the marks of science\")\n",
    "c = input(\"Enter the marks of social\")\n",
    "d = input(\"Enter the marks of english\")\n",
    "e = input(\"Enter the marks of Hindi\")"
   ]
  },
  {
   "cell_type": "code",
   "execution_count": 67,
   "id": "8016a802-7afb-4893-ae57-5b3e40e18af5",
   "metadata": {},
   "outputs": [
    {
     "data": {
      "text/plain": [
       "str"
      ]
     },
     "execution_count": 67,
     "metadata": {},
     "output_type": "execute_result"
    }
   ],
   "source": [
    "type(a)"
   ]
  },
  {
   "cell_type": "code",
   "execution_count": 68,
   "id": "907f870f-273d-4cc6-b17f-f89dc4d56479",
   "metadata": {},
   "outputs": [
    {
     "name": "stdout",
     "output_type": "stream",
     "text": [
      "395\n"
     ]
    }
   ],
   "source": [
    "a = int(a)\n",
    "b = int(b)\n",
    "c = int(c)\n",
    "d = int(d)\n",
    "e = int(e)\n",
    "print(a+b+c+d+e)"
   ]
  },
  {
   "cell_type": "code",
   "execution_count": 69,
   "id": "0f75c32d-bcee-4eab-9acb-0cabef069048",
   "metadata": {},
   "outputs": [
    {
     "name": "stdout",
     "output_type": "stream",
     "text": [
      "79.0\n"
     ]
    }
   ],
   "source": [
    "print((395/500)*100)"
   ]
  },
  {
   "cell_type": "markdown",
   "id": "3e0edb70-4b5f-40ac-b059-078dda2bfb4d",
   "metadata": {},
   "source": [
    "# Len Function"
   ]
  },
  {
   "cell_type": "markdown",
   "id": "f399d2fe-6a42-4a98-98a3-03310dacc4f5",
   "metadata": {},
   "source": [
    "The len() function returns the number of items in an object. \n",
    "When the object is a string , the len() function returns the number of characters in the string.\n",
    "\n",
    "The function len() is one of Python's built-in functions. It returns the length of an object. \n",
    "For example , it it can return the number of items in alist. You can use the function with many different data types. However , not all the data types are valid arguments of len()>"
   ]
  },
  {
   "cell_type": "code",
   "execution_count": 70,
   "id": "0f916a77-d8b0-4df2-97dd-b29c280ca642",
   "metadata": {},
   "outputs": [
    {
     "name": "stdout",
     "output_type": "stream",
     "text": [
      "I am learning python\n"
     ]
    }
   ],
   "source": [
    "a = \"I am learning python\"\n",
    "print(a)"
   ]
  },
  {
   "cell_type": "code",
   "execution_count": 72,
   "id": "cac5c70c-6b0d-4b9a-8766-e21277e5e050",
   "metadata": {},
   "outputs": [
    {
     "name": "stdout",
     "output_type": "stream",
     "text": [
      "20\n"
     ]
    }
   ],
   "source": [
    "print(len(a))"
   ]
  },
  {
   "cell_type": "code",
   "execution_count": 74,
   "id": "a62d47a0-9a14-48a0-9a5f-0bda8f3b1554",
   "metadata": {},
   "outputs": [
    {
     "name": "stdout",
     "output_type": "stream",
     "text": [
      "python is a high level programming lanugageand it is very easy to learn\n"
     ]
    }
   ],
   "source": [
    "x = \"python is a high level programming lanugage\"\n",
    "y = \"and it is very easy to learn\"\n",
    "print(x + y )"
   ]
  },
  {
   "cell_type": "code",
   "execution_count": 75,
   "id": "28c7f4f5-003c-40be-8c4c-97452e052d25",
   "metadata": {},
   "outputs": [
    {
     "name": "stdout",
     "output_type": "stream",
     "text": [
      "71\n"
     ]
    }
   ],
   "source": [
    "print(len(x+y))"
   ]
  },
  {
   "cell_type": "code",
   "execution_count": 78,
   "id": "a6bf6c82-b88c-499d-86a1-10f03813b1c3",
   "metadata": {},
   "outputs": [
    {
     "data": {
      "text/plain": [
       "8"
      ]
     },
     "execution_count": 78,
     "metadata": {},
     "output_type": "execute_result"
    }
   ],
   "source": [
    "L = [12,17,45,521,34,3,33,33]\n",
    "len(L)"
   ]
  },
  {
   "cell_type": "code",
   "execution_count": 79,
   "id": "16505e8d-3641-409d-a39e-b5a868dc9dc9",
   "metadata": {},
   "outputs": [
    {
     "ename": "TypeError",
     "evalue": "object of type 'int' has no len()",
     "output_type": "error",
     "traceback": [
      "\u001b[1;31m---------------------------------------------------------------------------\u001b[0m",
      "\u001b[1;31mTypeError\u001b[0m                                 Traceback (most recent call last)",
      "Cell \u001b[1;32mIn[79], line 2\u001b[0m\n\u001b[0;32m      1\u001b[0m A \u001b[38;5;241m=\u001b[39m \u001b[38;5;241m123454545\u001b[39m\n\u001b[1;32m----> 2\u001b[0m \u001b[38;5;28mlen\u001b[39m(A)\n",
      "\u001b[1;31mTypeError\u001b[0m: object of type 'int' has no len()"
     ]
    }
   ],
   "source": [
    "A = 123454545\n",
    "len(A)"
   ]
  },
  {
   "cell_type": "code",
   "execution_count": null,
   "id": "6c238b69-fe5c-4559-aecb-917d2e56f721",
   "metadata": {},
   "outputs": [],
   "source": [
    "Length function is not aplicable for int or float"
   ]
  },
  {
   "cell_type": "markdown",
   "id": "702d4987-393c-4b44-a5a4-8bcd8131e2a6",
   "metadata": {},
   "source": [
    "# Min & Max function"
   ]
  },
  {
   "cell_type": "markdown",
   "id": "469f7fdc-c613-4436-8618-3bccd913199d",
   "metadata": {},
   "source": [
    "max() : \n",
    "\n",
    "This function is used to compute the maximum of the values passed in its argument and lexicographically largest value if strings are passes as arguments.\n",
    "\n",
    "min() : \n",
    "\n",
    "This function is used to compute the minimum of the values passed in its argument and lexicographically smallest value if strings are passed as arguments."
   ]
  },
  {
   "cell_type": "code",
   "execution_count": 81,
   "id": "772c8700-1006-454a-9d97-07431aace56f",
   "metadata": {},
   "outputs": [
    {
     "data": {
      "text/plain": [
       "-78"
      ]
     },
     "execution_count": 81,
     "metadata": {},
     "output_type": "execute_result"
    }
   ],
   "source": [
    "l = [45,12,41,-6,85,12,-78]\n",
    "min(l)"
   ]
  },
  {
   "cell_type": "code",
   "execution_count": 83,
   "id": "81d2ec0e-8692-4f63-8213-17924af605e9",
   "metadata": {},
   "outputs": [
    {
     "data": {
      "text/plain": [
       "85"
      ]
     },
     "execution_count": 83,
     "metadata": {},
     "output_type": "execute_result"
    }
   ],
   "source": [
    "max(l)"
   ]
  },
  {
   "cell_type": "code",
   "execution_count": 84,
   "id": "fe2326c1-7b5c-48f8-b11f-ac79ac0fd18d",
   "metadata": {},
   "outputs": [
    {
     "name": "stdin",
     "output_type": "stream",
     "text": [
      "Enter 1st value 12\n",
      "Enter 2nd value 2.35\n",
      "Enter 3rd value -4\n",
      "Enter 4th value 51\n",
      "Enter 5th value -47\n"
     ]
    }
   ],
   "source": [
    "\"\"\"Ask the user to enter 5 values and find the minimum and the maximum values\"\"\"\n",
    "\n",
    "a = input(\"Enter 1st value\")\n",
    "b = input(\"Enter 2nd value\")\n",
    "c = input(\"Enter 3rd value\")\n",
    "d = input(\"Enter 4th value\")\n",
    "e = input(\"Enter 5th value\")"
   ]
  },
  {
   "cell_type": "code",
   "execution_count": 86,
   "id": "50f78b2a-486f-41ee-8970-8afeccc8d6c7",
   "metadata": {},
   "outputs": [
    {
     "name": "stdout",
     "output_type": "stream",
     "text": [
      "Values given by user 12 2.35 -4 51 -47\n",
      "The Minimum value is -47\n",
      "The Maximum value is 51\n"
     ]
    }
   ],
   "source": [
    "a= int(a)\n",
    "b= float(b)\n",
    "c= int(c)\n",
    "d= int(d)\n",
    "e= int(e)\n",
    "print(\"Values given by user\" , a,b,c,d,e)\n",
    "print(\"The Minimum value is\" , min(a,b,c,d,e))\n",
    "print(\"The Maximum value is\" , max(a , b,c,d,e))"
   ]
  },
  {
   "cell_type": "markdown",
   "id": "2c41f18d-eeb7-4bd5-a6e3-1db686526c10",
   "metadata": {},
   "source": [
    "# Sorted Function"
   ]
  },
  {
   "cell_type": "markdown",
   "id": "b97b5f73-1c0b-43b5-a354-7e7dfe49a771",
   "metadata": {},
   "source": [
    "The sorted() function returns a sorted list of the specified interable object.\n",
    "\n",
    "You can specify asceding or descending order. Strings are sorted alphabetically, and numbers are sorted numerically."
   ]
  },
  {
   "cell_type": "code",
   "execution_count": 87,
   "id": "ef6b5952-46d0-4106-ae90-acf2839d4a6f",
   "metadata": {},
   "outputs": [
    {
     "data": {
      "text/plain": [
       "[-6, 15, 24, 84, 94]"
      ]
     },
     "execution_count": 87,
     "metadata": {},
     "output_type": "execute_result"
    }
   ],
   "source": [
    "L = [15,94,-6,24,84]\n",
    "sorted(L) Assendencing order automatically"
   ]
  },
  {
   "cell_type": "code",
   "execution_count": 88,
   "id": "05cc99a2-d51b-4fdd-9d1e-203c17475e93",
   "metadata": {},
   "outputs": [
    {
     "data": {
      "text/plain": [
       "[94, 84, 24, 15, -6]"
      ]
     },
     "execution_count": 88,
     "metadata": {},
     "output_type": "execute_result"
    }
   ],
   "source": [
    "sorted(L, reverse = True)  For dessendencing order "
   ]
  },
  {
   "cell_type": "code",
   "execution_count": 91,
   "id": "5c649be2-cc52-4247-b612-40c7bf55f07a",
   "metadata": {},
   "outputs": [
    {
     "name": "stdin",
     "output_type": "stream",
     "text": [
      "Enter 1st value 24\n",
      "Enter 2nd value 12.56\n",
      "Enter 3rd value -5\n",
      "Enter 4th value 26\n",
      "Enter 5th value -94\n"
     ]
    }
   ],
   "source": [
    "\"\"\"Take 5 values from the user and arrange them in ascending and descending order\"\"\" \n",
    "a = input(\"Enter 1st value\")\n",
    "b = input(\"Enter 2nd value\")\n",
    "c= input(\"Enter 3rd value\")\n",
    "d = input(\"Enter 4th value\")\n",
    "e = input(\"Enter 5th value\")\n"
   ]
  },
  {
   "cell_type": "code",
   "execution_count": 92,
   "id": "72492ec6-be37-405c-b91b-d87ed8131d29",
   "metadata": {},
   "outputs": [
    {
     "name": "stdout",
     "output_type": "stream",
     "text": [
      "24 12.56 -5 26 -94\n"
     ]
    }
   ],
   "source": [
    "a = int(a)\n",
    "b = float(b)\n",
    "c = int(c)\n",
    "d = int(d)\n",
    "e = int(e)\n",
    "print(a,b,c,d,e)"
   ]
  },
  {
   "cell_type": "code",
   "execution_count": 94,
   "id": "aba2e778-823b-4f03-8935-2b7e3da28924",
   "metadata": {},
   "outputs": [
    {
     "name": "stdout",
     "output_type": "stream",
     "text": [
      "[-94, -5, 12.56, 24, 26]\n"
     ]
    }
   ],
   "source": [
    "x = (a,b,c,d,e)\n",
    "print(sorted(x))"
   ]
  },
  {
   "cell_type": "code",
   "execution_count": 97,
   "id": "c351f87c-b512-41ab-a671-02dc4f274d37",
   "metadata": {},
   "outputs": [
    {
     "name": "stdout",
     "output_type": "stream",
     "text": [
      "[26, 24, 12.56, -5, -94]\n"
     ]
    }
   ],
   "source": [
    "print(sorted(x , reverse = True))"
   ]
  },
  {
   "cell_type": "markdown",
   "id": "55911439-fa23-48d3-847c-fc0af3fe6814",
   "metadata": {},
   "source": [
    "# How to use any function in python "
   ]
  },
  {
   "cell_type": "code",
   "execution_count": 98,
   "id": "01d0a0f1-2aec-4c6b-9a0e-f9b5471d66f0",
   "metadata": {},
   "outputs": [
    {
     "data": {
      "text/plain": [
       "\u001b[1;31mSignature:\u001b[0m \u001b[0mpow\u001b[0m\u001b[1;33m(\u001b[0m\u001b[0mbase\u001b[0m\u001b[1;33m,\u001b[0m \u001b[0mexp\u001b[0m\u001b[1;33m,\u001b[0m \u001b[0mmod\u001b[0m\u001b[1;33m=\u001b[0m\u001b[1;32mNone\u001b[0m\u001b[1;33m)\u001b[0m\u001b[1;33m\u001b[0m\u001b[1;33m\u001b[0m\u001b[0m\n",
       "\u001b[1;31mDocstring:\u001b[0m\n",
       "Equivalent to base**exp with 2 arguments or base**exp % mod with 3 arguments\n",
       "\n",
       "Some types, such as ints, are able to use a more efficient algorithm when\n",
       "invoked using the three argument form.\n",
       "\u001b[1;31mType:\u001b[0m      builtin_function_or_method"
      ]
     },
     "metadata": {},
     "output_type": "display_data"
    }
   ],
   "source": [
    "pow?"
   ]
  },
  {
   "cell_type": "code",
   "execution_count": 99,
   "id": "63b2d4cb-0417-426f-aa1c-a213bca1ba6b",
   "metadata": {},
   "outputs": [
    {
     "name": "stdout",
     "output_type": "stream",
     "text": [
      "Help on built-in function divmod in module builtins:\n",
      "\n",
      "divmod(x, y, /)\n",
      "    Return the tuple (x//y, x%y).  Invariant: div*y + mod == x.\n",
      "\n"
     ]
    }
   ],
   "source": [
    "help(divmod)"
   ]
  },
  {
   "cell_type": "code",
   "execution_count": 100,
   "id": "686e7078-67b2-4926-9d0f-8e6ae42074db",
   "metadata": {},
   "outputs": [
    {
     "data": {
      "text/plain": [
       "\u001b[1;31mSignature:\u001b[0m \u001b[0mdivmod\u001b[0m\u001b[1;33m(\u001b[0m\u001b[0mx\u001b[0m\u001b[1;33m,\u001b[0m \u001b[0my\u001b[0m\u001b[1;33m,\u001b[0m \u001b[1;33m/\u001b[0m\u001b[1;33m)\u001b[0m\u001b[1;33m\u001b[0m\u001b[1;33m\u001b[0m\u001b[0m\n",
       "\u001b[1;31mDocstring:\u001b[0m Return the tuple (x//y, x%y).  Invariant: div*y + mod == x.\n",
       "\u001b[1;31mType:\u001b[0m      builtin_function_or_method"
      ]
     },
     "metadata": {},
     "output_type": "display_data"
    }
   ],
   "source": [
    "divmod?"
   ]
  },
  {
   "cell_type": "code",
   "execution_count": 101,
   "id": "437e9887-bf84-4df4-94a0-1bc748aa8932",
   "metadata": {},
   "outputs": [
    {
     "data": {
      "text/plain": [
       "\u001b[1;31mDocstring:\u001b[0m\n",
       "max(iterable, *[, default=obj, key=func]) -> value\n",
       "max(arg1, arg2, *args, *[, key=func]) -> value\n",
       "\n",
       "With a single iterable argument, return its biggest item. The\n",
       "default keyword-only argument specifies an object to return if\n",
       "the provided iterable is empty.\n",
       "With two or more arguments, return the largest argument.\n",
       "\u001b[1;31mType:\u001b[0m      builtin_function_or_method"
      ]
     },
     "metadata": {},
     "output_type": "display_data"
    }
   ],
   "source": [
    "max??"
   ]
  },
  {
   "cell_type": "markdown",
   "id": "12f8b3d2-5d9a-40a0-8264-ae8b0fd96a9a",
   "metadata": {},
   "source": [
    "# Unit- 3 Assignment Questions"
   ]
  },
  {
   "cell_type": "markdown",
   "id": "2d28b53a-83de-4d58-a8e3-d6630478df7e",
   "metadata": {},
   "source": [
    "Problem Solving Approach : \n",
    "1) Question- Understand (30%)\n",
    "2) Logic- (40-50%)\n",
    "3) 3)Coding- (30-40%)"
   ]
  },
  {
   "cell_type": "code",
   "execution_count": null,
   "id": "b3a9a922-7cd7-4f69-8dee-c759119a0f41",
   "metadata": {},
   "outputs": [],
   "source": [
    "Question 1 - In an experiment the scientist was measuring the length of a line, the following are the lengths in mm\n",
    "2.398 , 5.639 , 7.452 , 0.123 , 5.754\n",
    "Find the average length and also round off upto 2 digits."
   ]
  },
  {
   "cell_type": "code",
   "execution_count": 102,
   "id": "356d68cb-33e6-4cbf-98b0-8003e8e8bc53",
   "metadata": {},
   "outputs": [
    {
     "name": "stdout",
     "output_type": "stream",
     "text": [
      "The average length is 4.2732\n",
      "The round off length is 4.27\n"
     ]
    }
   ],
   "source": [
    "Length = 2.398 + 5.639 + 7.452 + 0.123 + 5.754\n",
    "Average = Length/5\n",
    "print( \"The average length is\" ,Average)\n",
    "a = round(Average , 2 )\n",
    "print( \"The round off length is\" , a )"
   ]
  },
  {
   "cell_type": "code",
   "execution_count": null,
   "id": "a4b358bf-d083-4828-817c-602408d92a94",
   "metadata": {},
   "outputs": [],
   "source": [
    "Question 2 - Rahul travelled a distance of 12567.7854 km. \n",
    "Divide it the cost 45, 78,63 rs . \n",
    "Find the average of quotient and remainder and \n",
    "figured out the round off value of the quotient and remainder."
   ]
  },
  {
   "cell_type": "code",
   "execution_count": 107,
   "id": "7eeead80-ef66-4eb0-8cb8-f463edf0d151",
   "metadata": {},
   "outputs": [
    {
     "name": "stdout",
     "output_type": "stream",
     "text": [
      "The average of quotient and Remainder is 213.0 & 17.785400000000664\n",
      "the round off value of the quotient and remainder is  213 & 18\n"
     ]
    }
   ],
   "source": [
    "a = divmod( 12567.7854 , 45)\n",
    "b = divmod( 12567.7854 , 78)\n",
    "c = divmod( 12567.7854 , 63)\n",
    "d = (a[0] + b[0] + c[0] )/ 3\n",
    "e = (a[1] + b[1] + c[1] )/ 3\n",
    "print(\"The average of quotient and Remainder is\", d, \"&\", e )\n",
    "print(\"the round off value of the quotient and remainder is \" , round(d) , \"&\" ,round(e))"
   ]
  },
  {
   "cell_type": "code",
   "execution_count": null,
   "id": "1ebc2217-2103-4b88-86ff-b58220f9dbba",
   "metadata": {},
   "outputs": [],
   "source": [
    "Question 3 - 10524 raise to the power 2,3,4,5 and divide it by 71\n",
    "Find the reminder in each case"
   ]
  },
  {
   "cell_type": "code",
   "execution_count": 108,
   "id": "e071ec6d-cad0-49de-9411-060633ab9c3a",
   "metadata": {},
   "outputs": [
    {
     "name": "stdout",
     "output_type": "stream",
     "text": [
      "43 49 3 48\n"
     ]
    }
   ],
   "source": [
    "a = pow(10524 ,2 , 71)\n",
    "b = pow(10524 ,3,71)\n",
    "c = pow(10524 ,4,71)\n",
    "d = pow(10524 ,5,71)\n",
    "print(a,b,c,d)"
   ]
  },
  {
   "cell_type": "code",
   "execution_count": null,
   "id": "e668710f-31ba-4d5d-92a6-db820a30787e",
   "metadata": {},
   "outputs": [],
   "source": [
    "Question 4 - Enter the value of 5 stocks in the form of float from the user and \n",
    "Find the average of the 5 stocks and finally round off."
   ]
  },
  {
   "cell_type": "code",
   "execution_count": 110,
   "id": "49939fcb-9517-4c9d-84dd-46485f1563f9",
   "metadata": {},
   "outputs": [
    {
     "name": "stdin",
     "output_type": "stream",
     "text": [
      "Enter the value of stock 1st 334.4\n",
      "Enter the value of stock 2nd 2323.4\n",
      "Enter the value of stock 3rd 4423\n",
      "Enter the value of stock 4th 433.5\n",
      "Enter the value of stock 5th 2323.3\n"
     ]
    },
    {
     "name": "stdout",
     "output_type": "stream",
     "text": [
      "the average of the 5 stocks and finally round off 1968\n"
     ]
    }
   ],
   "source": [
    "a = float(input(\"Enter the value of stock 1st\"))\n",
    "b = float(input(\"Enter the value of stock 2nd\"))\n",
    "c = float(input(\"Enter the value of stock 3rd\"))\n",
    "d = float(input(\"Enter the value of stock 4th\"))\n",
    "e = float(input(\"Enter the value of stock 5th\"))\n",
    "Average = ( a+b+c+d+e)/5\n",
    "print(\"the average of the 5 stocks and finally round off\" , round(Average) )"
   ]
  },
  {
   "cell_type": "code",
   "execution_count": null,
   "id": "f8c58ae1-e45e-49c1-8e5a-3263f132191a",
   "metadata": {},
   "outputs": [],
   "source": [
    "Question 5 - Find the minimum , maximum and finally sort in the ascending and descending order\n",
    "[ 1578 , 52 ,-6 ,78,965,741,412,-236,86,120,-96,-41,752,12,0,3,7,-89]"
   ]
  },
  {
   "cell_type": "code",
   "execution_count": 112,
   "id": "8957e7ef-1657-41e4-aaf8-28ad592be572",
   "metadata": {},
   "outputs": [
    {
     "name": "stdout",
     "output_type": "stream",
     "text": [
      "Mimimum value is -236\n",
      "Maximum value is 1578\n",
      "sorted values in the ascending [-236, -96, -89, -41, -6, 0, 3, 7, 12, 52, 78, 86, 120, 412, 741, 752, 965, 1578]\n",
      "sorted values in the descending order [1578, 965, 752, 741, 412, 120, 86, 78, 52, 12, 7, 3, 0, -6, -41, -89, -96, -236]\n"
     ]
    }
   ],
   "source": [
    "a = [ 1578 , 52 ,-6 ,78,965,741,412,-236,86,120,-96,-41,752,12,0,3,7,-89]\n",
    "print( \"Mimimum value is\" , min(a))\n",
    "print(\"Maximum value is\" , max(a))\n",
    "print(\"sorted values in the ascending\" , sorted(a))\n",
    "print(\"sorted values in the descending order\" , sorted(a,reverse = True))"
   ]
  },
  {
   "cell_type": "markdown",
   "id": "31bfbd5c-4c2c-4a53-926c-dc47ecf55991",
   "metadata": {},
   "source": [
    "# Unit - 4"
   ]
  },
  {
   "cell_type": "markdown",
   "id": "a4a1f334-cbdd-4a16-8a09-1efe1adf326c",
   "metadata": {},
   "source": [
    "# if Condition"
   ]
  },
  {
   "cell_type": "code",
   "execution_count": null,
   "id": "8ffaab2e-e4e1-47ee-89ec-48bf1a97eaf0",
   "metadata": {},
   "outputs": [],
   "source": [
    "Decision making is the most important aspect of almost of almost all the programming languages.\n",
    "As the name implies, decision making allows us to run a particular block of code for a particular decision.\n",
    "Here, the decisions are made on the validity of the particular conditions. Condition checking is the backbone of decision making .\n",
    "\n",
    "\"\"\"Control Flow Statement\"\"\"\n",
    "\n",
    "If statement - The if statement is used to test a specific condition. If the condition is true , a block of code ( if-block) will be executed."
   ]
  },
  {
   "cell_type": "code",
   "execution_count": 114,
   "id": "38c849b1-6d5b-4aa6-a5d4-ee0029a4b9bb",
   "metadata": {},
   "outputs": [
    {
     "name": "stdin",
     "output_type": "stream",
     "text": [
      "Enter the first value 25\n",
      "Enter the second value 89\n"
     ]
    },
    {
     "name": "stdout",
     "output_type": "stream",
     "text": [
      "The Greatern Value is b 89\n"
     ]
    }
   ],
   "source": [
    "\"\"\"Take two numbers from the user and print the greater one\"\"\"\n",
    "a = int(input(\"Enter the first value\" ))\n",
    "b = int(input(\"Enter the second value\"))\n",
    "if a>b : \n",
    "    print(\"The Greater Value is a\" , a ) \n",
    "if b>a :\n",
    "    print(\"The Greatern Value is b\" , b)"
   ]
  },
  {
   "cell_type": "code",
   "execution_count": 117,
   "id": "13bedd52-d3dd-4e02-a5cd-9311c03380c3",
   "metadata": {},
   "outputs": [
    {
     "name": "stdin",
     "output_type": "stream",
     "text": [
      "Enter the value 13\n"
     ]
    },
    {
     "name": "stdout",
     "output_type": "stream",
     "text": [
      "number entered by the user is not even\n"
     ]
    }
   ],
   "source": [
    "\"\"\"Enter the value from the user , and check the number is true or false\"\"\"\n",
    "a = int(input('Enter the value'))\n",
    "if a%2==0 :\n",
    "   print(\"number entered by the user is even number\")\n",
    "if a%2!=0 :\n",
    "   print(\"number entered by the user is not even\")"
   ]
  },
  {
   "cell_type": "code",
   "execution_count": 118,
   "id": "619edc10-0d25-46fb-9b5c-4bbdc50b6016",
   "metadata": {},
   "outputs": [
    {
     "name": "stdin",
     "output_type": "stream",
     "text": [
      "Tossed a coin head\n"
     ]
    },
    {
     "name": "stdout",
     "output_type": "stream",
     "text": [
      "Team A will bat first\n"
     ]
    }
   ],
   "source": [
    "\"\"\"Umpire toosed a coin , if it will be head team A will bat First , if it will be tail team B will bat first\"\"\"\n",
    "a = input(\"Tossed a coin\")\n",
    "if a==\"head\" : \n",
    "    print(\"Team A will bat first\")\n",
    "if a==\"Tail\" : \n",
    "    print(\"Team B will bat first\")"
   ]
  },
  {
   "cell_type": "code",
   "execution_count": 122,
   "id": "8e58841f-0b81-4e7b-b055-3685bbe98f9d",
   "metadata": {},
   "outputs": [
    {
     "name": "stdin",
     "output_type": "stream",
     "text": [
      "Please enter the number 14345\n"
     ]
    },
    {
     "name": "stdout",
     "output_type": "stream",
     "text": [
      "the number is divisible by 13\n"
     ]
    }
   ],
   "source": [
    "\"\"\"Enter a number from the user , and check the number is divisible by 13 or not\"\"\"\n",
    "y = int(input(\"Please enter the number\"))\n",
    "if y%13==0:\n",
    "        print(\"The  number is divisible by 13\")\n",
    "if y%13!=0 : \n",
    "        print(\"the number is divisible by 13\")"
   ]
  },
  {
   "cell_type": "code",
   "execution_count": 124,
   "id": "07b90ec6-ae71-4093-9a58-cd595a0cf68b",
   "metadata": {},
   "outputs": [
    {
     "name": "stdin",
     "output_type": "stream",
     "text": [
      "Enter the colour if the ball red\n"
     ]
    },
    {
     "name": "stdout",
     "output_type": "stream",
     "text": [
      "Raju will not play\n"
     ]
    }
   ],
   "source": [
    "\"\"\"Raju went for shooping if he purchase blue ball then , he will play from the side of the blue team , if raju will green ball then he will play from the green team\"\"\"\n",
    "z = input(\"Enter the colour if the ball\")\n",
    "if z==\"blue\" : \n",
    "    print(\"Raju will play from the blue team\")\n",
    "if z==\"Green\" :\n",
    "    print(\"Raju will play from the green team\")\n",
    "print(\"Raju will not play\")"
   ]
  },
  {
   "cell_type": "markdown",
   "id": "ae31190b-2999-4522-af54-46569d70331f",
   "metadata": {},
   "source": [
    "# If else Condition"
   ]
  },
  {
   "cell_type": "code",
   "execution_count": null,
   "id": "0b914d9a-c678-4bed-9b51-13f6a2d94e0c",
   "metadata": {},
   "outputs": [],
   "source": [
    "if-else\n",
    "\n",
    "The if statement alone tells us that if a condition is true it will execute a block of statements and if the condition is false it won't.\n",
    "But what if we want to do something else if the condition is false. Here comes the else statement. \n",
    "We can use the else statement with if statement to execute a block of code when the condition is false. \n",
    "\n",
    "Syntax : \n",
    "if (condition) : \n",
    "    # Execute this block if \n",
    "    # condition is true \n",
    "else : \n",
    "    #Executes this block if \n",
    "    #condition is false"
   ]
  },
  {
   "cell_type": "code",
   "execution_count": 126,
   "id": "5f617932-6236-4ac3-ba4d-ddb63d42c20f",
   "metadata": {},
   "outputs": [
    {
     "name": "stdin",
     "output_type": "stream",
     "text": [
      "Enter the value 26\n"
     ]
    },
    {
     "name": "stdout",
     "output_type": "stream",
     "text": [
      "Magic\n"
     ]
    }
   ],
   "source": [
    "\"\"\"Take a value from the user and if the value will be greater than 20 print Magic and if the value is not greatern than 20 and then print no magic\"\"\"\n",
    "a = int(input(\"Enter the value\"))\n",
    "if a>20 : \n",
    "    print(\"Magic\")\n",
    "else : \n",
    "    print(\"no magic\")"
   ]
  },
  {
   "cell_type": "code",
   "execution_count": 127,
   "id": "b5ba1ad8-73a9-43ce-a1a0-ddae97e9e28c",
   "metadata": {},
   "outputs": [
    {
     "name": "stdin",
     "output_type": "stream",
     "text": [
      "Please enter your age 50\n"
     ]
    },
    {
     "name": "stdout",
     "output_type": "stream",
     "text": [
      "Not a Senior Citizen\n"
     ]
    }
   ],
   "source": [
    "\"\"\"Enter the age of the user , if age is greater than 60 print senior citizen , age is less than 60 , print not a senior citizen\"\"\"\n",
    "p = int(input(\"Please enter your age\"))\n",
    "if p>=60 : \n",
    "        print(\"Senior Citizen\")\n",
    "else :\n",
    "       print(\"Not a Senior Citizen\")"
   ]
  },
  {
   "cell_type": "code",
   "execution_count": 130,
   "id": "88288496-be8f-4604-84ee-cf3b3bef5cd7",
   "metadata": {},
   "outputs": [
    {
     "name": "stdin",
     "output_type": "stream",
     "text": [
      "Enter you age 45\n"
     ]
    },
    {
     "name": "stdout",
     "output_type": "stream",
     "text": [
      "You are eligible for voting \n",
      "Election is coming soon\n"
     ]
    }
   ],
   "source": [
    "\"\"\"Ask the user to enter his age , if age will be more than 18 year then eligible for voting\"\"\"\n",
    "a = int(input(\"Enter you age\"))\n",
    "if a>=18 : \n",
    "    print(\"You are eligible for voting \")\n",
    "else : \n",
    "    print(\"You are not eligible for voting\")\n",
    "print(\"Election is coming soon\")"
   ]
  },
  {
   "cell_type": "code",
   "execution_count": 40,
   "id": "bc4be8f3-be47-4d29-bfa7-892066591f15",
   "metadata": {},
   "outputs": [
    {
     "name": "stdin",
     "output_type": "stream",
     "text": [
      "Enter the first value  342\n",
      "Enter the second value  32\n",
      "1. Addition 2. Substraction 3. Mutipilcation 4. Division  1\n"
     ]
    },
    {
     "name": "stdout",
     "output_type": "stream",
     "text": [
      "374\n"
     ]
    }
   ],
   "source": [
    "\"\"\"Make the Calculator by entering the input from the User\"\"\"\n",
    "\n",
    "a = (input(\"Enter the first value \" ))\n",
    "b = (input(\"Enter the second value \"))\n",
    "c = input(\"1. Addition 2. Substraction 3. Mutipilcation 4. Division \")\n",
    "if c==\"1\" :\n",
    "    print(int(float(a)+float(b)))\n",
    "\n",
    "elif c==\"2\":\n",
    "     print((int(float(b)-float(a))))\n",
    "\n",
    "elif c==\"3\" :\n",
    "    print(int(float(b)*float(a)))\n",
    "  \n",
    "elif c==\"4\" :\n",
    "    print(int(float(b)/ float(a)))\n",
    "\n",
    "else : \n",
    "    print(\"Error\")"
   ]
  },
  {
   "cell_type": "code",
   "execution_count": null,
   "id": "66de9140-2dfa-4901-83f8-e714b780cb0a",
   "metadata": {},
   "outputs": [],
   "source": []
  }
 ],
 "metadata": {
  "kernelspec": {
   "display_name": "Python 3 (ipykernel)",
   "language": "python",
   "name": "python3"
  },
  "language_info": {
   "codemirror_mode": {
    "name": "ipython",
    "version": 3
   },
   "file_extension": ".py",
   "mimetype": "text/x-python",
   "name": "python",
   "nbconvert_exporter": "python",
   "pygments_lexer": "ipython3",
   "version": "3.12.4"
  }
 },
 "nbformat": 4,
 "nbformat_minor": 5
}
